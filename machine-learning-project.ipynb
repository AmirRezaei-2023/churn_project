{
 "cells": [
  {
   "cell_type": "markdown",
   "id": "147d2ade",
   "metadata": {
    "papermill": {
     "duration": 0.103206,
     "end_time": "2022-03-02T20:14:42.771686",
     "exception": false,
     "start_time": "2022-03-02T20:14:42.668480",
     "status": "completed"
    },
    "tags": []
   },
   "source": [
    "<img src = \"https://slitayem.github.io/img/blog/2020-08-04/churn.png\" width=50%>"
   ]
  },
  {
   "cell_type": "markdown",
   "id": "24e747da",
   "metadata": {
    "papermill": {
     "duration": 0.099454,
     "end_time": "2022-03-02T20:14:42.972719",
     "exception": false,
     "start_time": "2022-03-02T20:14:42.873265",
     "status": "completed"
    },
    "tags": []
   },
   "source": [
    "## Importing the libraries"
   ]
  },
  {
   "cell_type": "code",
   "execution_count": 1,
   "id": "f235ce27",
   "metadata": {
    "execution": {
     "iopub.execute_input": "2022-03-02T20:14:43.186035Z",
     "iopub.status.busy": "2022-03-02T20:14:43.185395Z",
     "iopub.status.idle": "2022-03-02T20:14:44.357458Z",
     "shell.execute_reply": "2022-03-02T20:14:44.356362Z",
     "shell.execute_reply.started": "2022-03-02T20:12:30.998811Z"
    },
    "papermill": {
     "duration": 1.282835,
     "end_time": "2022-03-02T20:14:44.357646",
     "exception": false,
     "start_time": "2022-03-02T20:14:43.074811",
     "status": "completed"
    },
    "tags": []
   },
   "outputs": [],
   "source": [
    "import pandas as pd \n",
    "import numpy as np \n",
    "import seaborn as sns \n",
    "import matplotlib.pyplot as plt "
   ]
  },
  {
   "cell_type": "markdown",
   "id": "c07940a0",
   "metadata": {
    "papermill": {
     "duration": 0.09778,
     "end_time": "2022-03-02T20:14:44.553874",
     "exception": false,
     "start_time": "2022-03-02T20:14:44.456094",
     "status": "completed"
    },
    "tags": []
   },
   "source": [
    "## Load and Prepare Data"
   ]
  },
  {
   "cell_type": "code",
   "execution_count": 2,
   "id": "b853740b",
   "metadata": {
    "execution": {
     "iopub.execute_input": "2022-03-02T20:14:44.759022Z",
     "iopub.status.busy": "2022-03-02T20:14:44.758360Z",
     "iopub.status.idle": "2022-03-02T20:14:44.827440Z",
     "shell.execute_reply": "2022-03-02T20:14:44.827942Z",
     "shell.execute_reply.started": "2022-03-02T20:12:31.004709Z"
    },
    "papermill": {
     "duration": 0.173422,
     "end_time": "2022-03-02T20:14:44.828143",
     "exception": false,
     "start_time": "2022-03-02T20:14:44.654721",
     "status": "completed"
    },
    "tags": []
   },
   "outputs": [
    {
     "data": {
      "text/html": [
       "<div>\n",
       "<style scoped>\n",
       "    .dataframe tbody tr th:only-of-type {\n",
       "        vertical-align: middle;\n",
       "    }\n",
       "\n",
       "    .dataframe tbody tr th {\n",
       "        vertical-align: top;\n",
       "    }\n",
       "\n",
       "    .dataframe thead th {\n",
       "        text-align: right;\n",
       "    }\n",
       "</style>\n",
       "<table border=\"1\" class=\"dataframe\">\n",
       "  <thead>\n",
       "    <tr style=\"text-align: right;\">\n",
       "      <th></th>\n",
       "      <th>RowNumber</th>\n",
       "      <th>CustomerId</th>\n",
       "      <th>Surname</th>\n",
       "      <th>CreditScore</th>\n",
       "      <th>Geography</th>\n",
       "      <th>Gender</th>\n",
       "      <th>Age</th>\n",
       "      <th>Tenure</th>\n",
       "      <th>Balance</th>\n",
       "      <th>NumOfProducts</th>\n",
       "      <th>HasCrCard</th>\n",
       "      <th>IsActiveMember</th>\n",
       "      <th>EstimatedSalary</th>\n",
       "      <th>Exited</th>\n",
       "    </tr>\n",
       "  </thead>\n",
       "  <tbody>\n",
       "    <tr>\n",
       "      <th>0</th>\n",
       "      <td>1</td>\n",
       "      <td>15634602</td>\n",
       "      <td>Hargrave</td>\n",
       "      <td>619</td>\n",
       "      <td>France</td>\n",
       "      <td>Female</td>\n",
       "      <td>42</td>\n",
       "      <td>2</td>\n",
       "      <td>0.00</td>\n",
       "      <td>1</td>\n",
       "      <td>1</td>\n",
       "      <td>1</td>\n",
       "      <td>101348.88</td>\n",
       "      <td>1</td>\n",
       "    </tr>\n",
       "    <tr>\n",
       "      <th>1</th>\n",
       "      <td>2</td>\n",
       "      <td>15647311</td>\n",
       "      <td>Hill</td>\n",
       "      <td>608</td>\n",
       "      <td>Spain</td>\n",
       "      <td>Female</td>\n",
       "      <td>41</td>\n",
       "      <td>1</td>\n",
       "      <td>83807.86</td>\n",
       "      <td>1</td>\n",
       "      <td>0</td>\n",
       "      <td>1</td>\n",
       "      <td>112542.58</td>\n",
       "      <td>0</td>\n",
       "    </tr>\n",
       "    <tr>\n",
       "      <th>2</th>\n",
       "      <td>3</td>\n",
       "      <td>15619304</td>\n",
       "      <td>Onio</td>\n",
       "      <td>502</td>\n",
       "      <td>France</td>\n",
       "      <td>Female</td>\n",
       "      <td>42</td>\n",
       "      <td>8</td>\n",
       "      <td>159660.80</td>\n",
       "      <td>3</td>\n",
       "      <td>1</td>\n",
       "      <td>0</td>\n",
       "      <td>113931.57</td>\n",
       "      <td>1</td>\n",
       "    </tr>\n",
       "    <tr>\n",
       "      <th>3</th>\n",
       "      <td>4</td>\n",
       "      <td>15701354</td>\n",
       "      <td>Boni</td>\n",
       "      <td>699</td>\n",
       "      <td>France</td>\n",
       "      <td>Female</td>\n",
       "      <td>39</td>\n",
       "      <td>1</td>\n",
       "      <td>0.00</td>\n",
       "      <td>2</td>\n",
       "      <td>0</td>\n",
       "      <td>0</td>\n",
       "      <td>93826.63</td>\n",
       "      <td>0</td>\n",
       "    </tr>\n",
       "    <tr>\n",
       "      <th>4</th>\n",
       "      <td>5</td>\n",
       "      <td>15737888</td>\n",
       "      <td>Mitchell</td>\n",
       "      <td>850</td>\n",
       "      <td>Spain</td>\n",
       "      <td>Female</td>\n",
       "      <td>43</td>\n",
       "      <td>2</td>\n",
       "      <td>125510.82</td>\n",
       "      <td>1</td>\n",
       "      <td>1</td>\n",
       "      <td>1</td>\n",
       "      <td>79084.10</td>\n",
       "      <td>0</td>\n",
       "    </tr>\n",
       "  </tbody>\n",
       "</table>\n",
       "</div>"
      ],
      "text/plain": [
       "   RowNumber  CustomerId   Surname  CreditScore Geography  Gender  Age  \\\n",
       "0          1    15634602  Hargrave          619    France  Female   42   \n",
       "1          2    15647311      Hill          608     Spain  Female   41   \n",
       "2          3    15619304      Onio          502    France  Female   42   \n",
       "3          4    15701354      Boni          699    France  Female   39   \n",
       "4          5    15737888  Mitchell          850     Spain  Female   43   \n",
       "\n",
       "   Tenure    Balance  NumOfProducts  HasCrCard  IsActiveMember  \\\n",
       "0       2       0.00              1          1               1   \n",
       "1       1   83807.86              1          0               1   \n",
       "2       8  159660.80              3          1               0   \n",
       "3       1       0.00              2          0               0   \n",
       "4       2  125510.82              1          1               1   \n",
       "\n",
       "   EstimatedSalary  Exited  \n",
       "0        101348.88       1  \n",
       "1        112542.58       0  \n",
       "2        113931.57       1  \n",
       "3         93826.63       0  \n",
       "4         79084.10       0  "
      ]
     },
     "execution_count": 2,
     "metadata": {},
     "output_type": "execute_result"
    }
   ],
   "source": [
    "df=pd.read_csv('../input/churn1/Churn.csv')\n",
    "df.head()\n"
   ]
  },
  {
   "cell_type": "code",
   "execution_count": 3,
   "id": "b2837a6a",
   "metadata": {
    "execution": {
     "iopub.execute_input": "2022-03-02T20:14:45.032521Z",
     "iopub.status.busy": "2022-03-02T20:14:45.031773Z",
     "iopub.status.idle": "2022-03-02T20:14:45.035884Z",
     "shell.execute_reply": "2022-03-02T20:14:45.036353Z",
     "shell.execute_reply.started": "2022-03-02T20:12:31.055856Z"
    },
    "papermill": {
     "duration": 0.108613,
     "end_time": "2022-03-02T20:14:45.036548",
     "exception": false,
     "start_time": "2022-03-02T20:14:44.927935",
     "status": "completed"
    },
    "tags": []
   },
   "outputs": [
    {
     "data": {
      "text/plain": [
       "(10000, 14)"
      ]
     },
     "execution_count": 3,
     "metadata": {},
     "output_type": "execute_result"
    }
   ],
   "source": [
    "df.shape"
   ]
  },
  {
   "cell_type": "code",
   "execution_count": 4,
   "id": "0b1b542d",
   "metadata": {
    "execution": {
     "iopub.execute_input": "2022-03-02T20:14:45.240674Z",
     "iopub.status.busy": "2022-03-02T20:14:45.239687Z",
     "iopub.status.idle": "2022-03-02T20:14:45.268903Z",
     "shell.execute_reply": "2022-03-02T20:14:45.269456Z",
     "shell.execute_reply.started": "2022-03-02T20:12:31.062607Z"
    },
    "papermill": {
     "duration": 0.133161,
     "end_time": "2022-03-02T20:14:45.269667",
     "exception": false,
     "start_time": "2022-03-02T20:14:45.136506",
     "status": "completed"
    },
    "tags": []
   },
   "outputs": [
    {
     "name": "stdout",
     "output_type": "stream",
     "text": [
      "<class 'pandas.core.frame.DataFrame'>\n",
      "RangeIndex: 10000 entries, 0 to 9999\n",
      "Data columns (total 14 columns):\n",
      " #   Column           Non-Null Count  Dtype  \n",
      "---  ------           --------------  -----  \n",
      " 0   RowNumber        10000 non-null  int64  \n",
      " 1   CustomerId       10000 non-null  int64  \n",
      " 2   Surname          10000 non-null  object \n",
      " 3   CreditScore      10000 non-null  int64  \n",
      " 4   Geography        10000 non-null  object \n",
      " 5   Gender           10000 non-null  object \n",
      " 6   Age              10000 non-null  int64  \n",
      " 7   Tenure           10000 non-null  int64  \n",
      " 8   Balance          10000 non-null  float64\n",
      " 9   NumOfProducts    10000 non-null  int64  \n",
      " 10  HasCrCard        10000 non-null  int64  \n",
      " 11  IsActiveMember   10000 non-null  int64  \n",
      " 12  EstimatedSalary  10000 non-null  float64\n",
      " 13  Exited           10000 non-null  int64  \n",
      "dtypes: float64(2), int64(9), object(3)\n",
      "memory usage: 1.1+ MB\n"
     ]
    }
   ],
   "source": [
    "df.info()"
   ]
  },
  {
   "cell_type": "markdown",
   "id": "c17bddde",
   "metadata": {
    "papermill": {
     "duration": 0.099526,
     "end_time": "2022-03-02T20:14:45.469489",
     "exception": false,
     "start_time": "2022-03-02T20:14:45.369963",
     "status": "completed"
    },
    "tags": []
   },
   "source": [
    "#### To see the number of null values in each columns "
   ]
  },
  {
   "cell_type": "code",
   "execution_count": 5,
   "id": "5a058dba",
   "metadata": {
    "execution": {
     "iopub.execute_input": "2022-03-02T20:14:45.674940Z",
     "iopub.status.busy": "2022-03-02T20:14:45.674319Z",
     "iopub.status.idle": "2022-03-02T20:14:45.686618Z",
     "shell.execute_reply": "2022-03-02T20:14:45.687230Z",
     "shell.execute_reply.started": "2022-03-02T20:12:31.087927Z"
    },
    "papermill": {
     "duration": 0.118075,
     "end_time": "2022-03-02T20:14:45.687406",
     "exception": false,
     "start_time": "2022-03-02T20:14:45.569331",
     "status": "completed"
    },
    "tags": []
   },
   "outputs": [
    {
     "data": {
      "text/plain": [
       "RowNumber          0\n",
       "CustomerId         0\n",
       "Surname            0\n",
       "CreditScore        0\n",
       "Geography          0\n",
       "Gender             0\n",
       "Age                0\n",
       "Tenure             0\n",
       "Balance            0\n",
       "NumOfProducts      0\n",
       "HasCrCard          0\n",
       "IsActiveMember     0\n",
       "EstimatedSalary    0\n",
       "Exited             0\n",
       "dtype: int64"
      ]
     },
     "execution_count": 5,
     "metadata": {},
     "output_type": "execute_result"
    }
   ],
   "source": [
    "df.isna().sum()"
   ]
  },
  {
   "cell_type": "markdown",
   "id": "78fe7447",
   "metadata": {
    "papermill": {
     "duration": 0.101854,
     "end_time": "2022-03-02T20:14:45.892866",
     "exception": false,
     "start_time": "2022-03-02T20:14:45.791012",
     "status": "completed"
    },
    "tags": []
   },
   "source": [
    "\n",
    "#### Delete some columns to make Dataframe easier to see"
   ]
  },
  {
   "cell_type": "code",
   "execution_count": 6,
   "id": "0cf8cf9e",
   "metadata": {
    "execution": {
     "iopub.execute_input": "2022-03-02T20:14:46.103556Z",
     "iopub.status.busy": "2022-03-02T20:14:46.102880Z",
     "iopub.status.idle": "2022-03-02T20:14:46.122434Z",
     "shell.execute_reply": "2022-03-02T20:14:46.122955Z",
     "shell.execute_reply.started": "2022-03-02T20:12:31.105146Z"
    },
    "papermill": {
     "duration": 0.129391,
     "end_time": "2022-03-02T20:14:46.123289",
     "exception": false,
     "start_time": "2022-03-02T20:14:45.993898",
     "status": "completed"
    },
    "tags": []
   },
   "outputs": [
    {
     "data": {
      "text/html": [
       "<div>\n",
       "<style scoped>\n",
       "    .dataframe tbody tr th:only-of-type {\n",
       "        vertical-align: middle;\n",
       "    }\n",
       "\n",
       "    .dataframe tbody tr th {\n",
       "        vertical-align: top;\n",
       "    }\n",
       "\n",
       "    .dataframe thead th {\n",
       "        text-align: right;\n",
       "    }\n",
       "</style>\n",
       "<table border=\"1\" class=\"dataframe\">\n",
       "  <thead>\n",
       "    <tr style=\"text-align: right;\">\n",
       "      <th></th>\n",
       "      <th>CustomerId</th>\n",
       "      <th>CreditScore</th>\n",
       "      <th>Geography</th>\n",
       "      <th>Gender</th>\n",
       "      <th>Age</th>\n",
       "      <th>Tenure</th>\n",
       "      <th>Balance</th>\n",
       "      <th>NumOfProducts</th>\n",
       "      <th>HasCrCard</th>\n",
       "      <th>IsActiveMember</th>\n",
       "      <th>EstimatedSalary</th>\n",
       "      <th>Exited</th>\n",
       "    </tr>\n",
       "  </thead>\n",
       "  <tbody>\n",
       "    <tr>\n",
       "      <th>0</th>\n",
       "      <td>15634602</td>\n",
       "      <td>619</td>\n",
       "      <td>France</td>\n",
       "      <td>Female</td>\n",
       "      <td>42</td>\n",
       "      <td>2</td>\n",
       "      <td>0.00</td>\n",
       "      <td>1</td>\n",
       "      <td>1</td>\n",
       "      <td>1</td>\n",
       "      <td>101348.88</td>\n",
       "      <td>1</td>\n",
       "    </tr>\n",
       "    <tr>\n",
       "      <th>1</th>\n",
       "      <td>15647311</td>\n",
       "      <td>608</td>\n",
       "      <td>Spain</td>\n",
       "      <td>Female</td>\n",
       "      <td>41</td>\n",
       "      <td>1</td>\n",
       "      <td>83807.86</td>\n",
       "      <td>1</td>\n",
       "      <td>0</td>\n",
       "      <td>1</td>\n",
       "      <td>112542.58</td>\n",
       "      <td>0</td>\n",
       "    </tr>\n",
       "    <tr>\n",
       "      <th>2</th>\n",
       "      <td>15619304</td>\n",
       "      <td>502</td>\n",
       "      <td>France</td>\n",
       "      <td>Female</td>\n",
       "      <td>42</td>\n",
       "      <td>8</td>\n",
       "      <td>159660.80</td>\n",
       "      <td>3</td>\n",
       "      <td>1</td>\n",
       "      <td>0</td>\n",
       "      <td>113931.57</td>\n",
       "      <td>1</td>\n",
       "    </tr>\n",
       "    <tr>\n",
       "      <th>3</th>\n",
       "      <td>15701354</td>\n",
       "      <td>699</td>\n",
       "      <td>France</td>\n",
       "      <td>Female</td>\n",
       "      <td>39</td>\n",
       "      <td>1</td>\n",
       "      <td>0.00</td>\n",
       "      <td>2</td>\n",
       "      <td>0</td>\n",
       "      <td>0</td>\n",
       "      <td>93826.63</td>\n",
       "      <td>0</td>\n",
       "    </tr>\n",
       "    <tr>\n",
       "      <th>4</th>\n",
       "      <td>15737888</td>\n",
       "      <td>850</td>\n",
       "      <td>Spain</td>\n",
       "      <td>Female</td>\n",
       "      <td>43</td>\n",
       "      <td>2</td>\n",
       "      <td>125510.82</td>\n",
       "      <td>1</td>\n",
       "      <td>1</td>\n",
       "      <td>1</td>\n",
       "      <td>79084.10</td>\n",
       "      <td>0</td>\n",
       "    </tr>\n",
       "    <tr>\n",
       "      <th>...</th>\n",
       "      <td>...</td>\n",
       "      <td>...</td>\n",
       "      <td>...</td>\n",
       "      <td>...</td>\n",
       "      <td>...</td>\n",
       "      <td>...</td>\n",
       "      <td>...</td>\n",
       "      <td>...</td>\n",
       "      <td>...</td>\n",
       "      <td>...</td>\n",
       "      <td>...</td>\n",
       "      <td>...</td>\n",
       "    </tr>\n",
       "    <tr>\n",
       "      <th>9995</th>\n",
       "      <td>15606229</td>\n",
       "      <td>771</td>\n",
       "      <td>France</td>\n",
       "      <td>Male</td>\n",
       "      <td>39</td>\n",
       "      <td>5</td>\n",
       "      <td>0.00</td>\n",
       "      <td>2</td>\n",
       "      <td>1</td>\n",
       "      <td>0</td>\n",
       "      <td>96270.64</td>\n",
       "      <td>0</td>\n",
       "    </tr>\n",
       "    <tr>\n",
       "      <th>9996</th>\n",
       "      <td>15569892</td>\n",
       "      <td>516</td>\n",
       "      <td>France</td>\n",
       "      <td>Male</td>\n",
       "      <td>35</td>\n",
       "      <td>10</td>\n",
       "      <td>57369.61</td>\n",
       "      <td>1</td>\n",
       "      <td>1</td>\n",
       "      <td>1</td>\n",
       "      <td>101699.77</td>\n",
       "      <td>0</td>\n",
       "    </tr>\n",
       "    <tr>\n",
       "      <th>9997</th>\n",
       "      <td>15584532</td>\n",
       "      <td>709</td>\n",
       "      <td>France</td>\n",
       "      <td>Female</td>\n",
       "      <td>36</td>\n",
       "      <td>7</td>\n",
       "      <td>0.00</td>\n",
       "      <td>1</td>\n",
       "      <td>0</td>\n",
       "      <td>1</td>\n",
       "      <td>42085.58</td>\n",
       "      <td>1</td>\n",
       "    </tr>\n",
       "    <tr>\n",
       "      <th>9998</th>\n",
       "      <td>15682355</td>\n",
       "      <td>772</td>\n",
       "      <td>Germany</td>\n",
       "      <td>Male</td>\n",
       "      <td>42</td>\n",
       "      <td>3</td>\n",
       "      <td>75075.31</td>\n",
       "      <td>2</td>\n",
       "      <td>1</td>\n",
       "      <td>0</td>\n",
       "      <td>92888.52</td>\n",
       "      <td>1</td>\n",
       "    </tr>\n",
       "    <tr>\n",
       "      <th>9999</th>\n",
       "      <td>15628319</td>\n",
       "      <td>792</td>\n",
       "      <td>France</td>\n",
       "      <td>Female</td>\n",
       "      <td>28</td>\n",
       "      <td>4</td>\n",
       "      <td>130142.79</td>\n",
       "      <td>1</td>\n",
       "      <td>1</td>\n",
       "      <td>0</td>\n",
       "      <td>38190.78</td>\n",
       "      <td>0</td>\n",
       "    </tr>\n",
       "  </tbody>\n",
       "</table>\n",
       "<p>10000 rows × 12 columns</p>\n",
       "</div>"
      ],
      "text/plain": [
       "      CustomerId  CreditScore Geography  Gender  Age  Tenure    Balance  \\\n",
       "0       15634602          619    France  Female   42       2       0.00   \n",
       "1       15647311          608     Spain  Female   41       1   83807.86   \n",
       "2       15619304          502    France  Female   42       8  159660.80   \n",
       "3       15701354          699    France  Female   39       1       0.00   \n",
       "4       15737888          850     Spain  Female   43       2  125510.82   \n",
       "...          ...          ...       ...     ...  ...     ...        ...   \n",
       "9995    15606229          771    France    Male   39       5       0.00   \n",
       "9996    15569892          516    France    Male   35      10   57369.61   \n",
       "9997    15584532          709    France  Female   36       7       0.00   \n",
       "9998    15682355          772   Germany    Male   42       3   75075.31   \n",
       "9999    15628319          792    France  Female   28       4  130142.79   \n",
       "\n",
       "      NumOfProducts  HasCrCard  IsActiveMember  EstimatedSalary  Exited  \n",
       "0                 1          1               1        101348.88       1  \n",
       "1                 1          0               1        112542.58       0  \n",
       "2                 3          1               0        113931.57       1  \n",
       "3                 2          0               0         93826.63       0  \n",
       "4                 1          1               1         79084.10       0  \n",
       "...             ...        ...             ...              ...     ...  \n",
       "9995              2          1               0         96270.64       0  \n",
       "9996              1          1               1        101699.77       0  \n",
       "9997              1          0               1         42085.58       1  \n",
       "9998              2          1               0         92888.52       1  \n",
       "9999              1          1               0         38190.78       0  \n",
       "\n",
       "[10000 rows x 12 columns]"
      ]
     },
     "execution_count": 6,
     "metadata": {},
     "output_type": "execute_result"
    }
   ],
   "source": [
    "df.drop(['RowNumber', 'Surname'], axis=1, inplace=True)\n",
    "df"
   ]
  },
  {
   "cell_type": "code",
   "execution_count": 7,
   "id": "8d83d47c",
   "metadata": {
    "execution": {
     "iopub.execute_input": "2022-03-02T20:14:46.331470Z",
     "iopub.status.busy": "2022-03-02T20:14:46.330828Z",
     "iopub.status.idle": "2022-03-02T20:14:46.374071Z",
     "shell.execute_reply": "2022-03-02T20:14:46.374608Z",
     "shell.execute_reply.started": "2022-03-02T20:12:31.139234Z"
    },
    "papermill": {
     "duration": 0.148559,
     "end_time": "2022-03-02T20:14:46.374811",
     "exception": false,
     "start_time": "2022-03-02T20:14:46.226252",
     "status": "completed"
    },
    "tags": []
   },
   "outputs": [
    {
     "data": {
      "text/html": [
       "<div>\n",
       "<style scoped>\n",
       "    .dataframe tbody tr th:only-of-type {\n",
       "        vertical-align: middle;\n",
       "    }\n",
       "\n",
       "    .dataframe tbody tr th {\n",
       "        vertical-align: top;\n",
       "    }\n",
       "\n",
       "    .dataframe thead th {\n",
       "        text-align: right;\n",
       "    }\n",
       "</style>\n",
       "<table border=\"1\" class=\"dataframe\">\n",
       "  <thead>\n",
       "    <tr style=\"text-align: right;\">\n",
       "      <th></th>\n",
       "      <th>CustomerId</th>\n",
       "      <th>CreditScore</th>\n",
       "      <th>Age</th>\n",
       "      <th>Tenure</th>\n",
       "      <th>Balance</th>\n",
       "      <th>NumOfProducts</th>\n",
       "      <th>HasCrCard</th>\n",
       "      <th>IsActiveMember</th>\n",
       "      <th>EstimatedSalary</th>\n",
       "      <th>Exited</th>\n",
       "    </tr>\n",
       "  </thead>\n",
       "  <tbody>\n",
       "    <tr>\n",
       "      <th>count</th>\n",
       "      <td>1.000000e+04</td>\n",
       "      <td>10000.000000</td>\n",
       "      <td>10000.000000</td>\n",
       "      <td>10000.000000</td>\n",
       "      <td>10000.000000</td>\n",
       "      <td>10000.000000</td>\n",
       "      <td>10000.00000</td>\n",
       "      <td>10000.000000</td>\n",
       "      <td>10000.000000</td>\n",
       "      <td>10000.000000</td>\n",
       "    </tr>\n",
       "    <tr>\n",
       "      <th>mean</th>\n",
       "      <td>1.569094e+07</td>\n",
       "      <td>650.528800</td>\n",
       "      <td>38.921800</td>\n",
       "      <td>5.012800</td>\n",
       "      <td>76485.889288</td>\n",
       "      <td>1.530200</td>\n",
       "      <td>0.70550</td>\n",
       "      <td>0.515100</td>\n",
       "      <td>100090.239881</td>\n",
       "      <td>0.203700</td>\n",
       "    </tr>\n",
       "    <tr>\n",
       "      <th>std</th>\n",
       "      <td>7.193619e+04</td>\n",
       "      <td>96.653299</td>\n",
       "      <td>10.487806</td>\n",
       "      <td>2.892174</td>\n",
       "      <td>62397.405202</td>\n",
       "      <td>0.581654</td>\n",
       "      <td>0.45584</td>\n",
       "      <td>0.499797</td>\n",
       "      <td>57510.492818</td>\n",
       "      <td>0.402769</td>\n",
       "    </tr>\n",
       "    <tr>\n",
       "      <th>min</th>\n",
       "      <td>1.556570e+07</td>\n",
       "      <td>350.000000</td>\n",
       "      <td>18.000000</td>\n",
       "      <td>0.000000</td>\n",
       "      <td>0.000000</td>\n",
       "      <td>1.000000</td>\n",
       "      <td>0.00000</td>\n",
       "      <td>0.000000</td>\n",
       "      <td>11.580000</td>\n",
       "      <td>0.000000</td>\n",
       "    </tr>\n",
       "    <tr>\n",
       "      <th>25%</th>\n",
       "      <td>1.562853e+07</td>\n",
       "      <td>584.000000</td>\n",
       "      <td>32.000000</td>\n",
       "      <td>3.000000</td>\n",
       "      <td>0.000000</td>\n",
       "      <td>1.000000</td>\n",
       "      <td>0.00000</td>\n",
       "      <td>0.000000</td>\n",
       "      <td>51002.110000</td>\n",
       "      <td>0.000000</td>\n",
       "    </tr>\n",
       "    <tr>\n",
       "      <th>50%</th>\n",
       "      <td>1.569074e+07</td>\n",
       "      <td>652.000000</td>\n",
       "      <td>37.000000</td>\n",
       "      <td>5.000000</td>\n",
       "      <td>97198.540000</td>\n",
       "      <td>1.000000</td>\n",
       "      <td>1.00000</td>\n",
       "      <td>1.000000</td>\n",
       "      <td>100193.915000</td>\n",
       "      <td>0.000000</td>\n",
       "    </tr>\n",
       "    <tr>\n",
       "      <th>75%</th>\n",
       "      <td>1.575323e+07</td>\n",
       "      <td>718.000000</td>\n",
       "      <td>44.000000</td>\n",
       "      <td>7.000000</td>\n",
       "      <td>127644.240000</td>\n",
       "      <td>2.000000</td>\n",
       "      <td>1.00000</td>\n",
       "      <td>1.000000</td>\n",
       "      <td>149388.247500</td>\n",
       "      <td>0.000000</td>\n",
       "    </tr>\n",
       "    <tr>\n",
       "      <th>max</th>\n",
       "      <td>1.581569e+07</td>\n",
       "      <td>850.000000</td>\n",
       "      <td>92.000000</td>\n",
       "      <td>10.000000</td>\n",
       "      <td>250898.090000</td>\n",
       "      <td>4.000000</td>\n",
       "      <td>1.00000</td>\n",
       "      <td>1.000000</td>\n",
       "      <td>199992.480000</td>\n",
       "      <td>1.000000</td>\n",
       "    </tr>\n",
       "  </tbody>\n",
       "</table>\n",
       "</div>"
      ],
      "text/plain": [
       "         CustomerId   CreditScore           Age        Tenure        Balance  \\\n",
       "count  1.000000e+04  10000.000000  10000.000000  10000.000000   10000.000000   \n",
       "mean   1.569094e+07    650.528800     38.921800      5.012800   76485.889288   \n",
       "std    7.193619e+04     96.653299     10.487806      2.892174   62397.405202   \n",
       "min    1.556570e+07    350.000000     18.000000      0.000000       0.000000   \n",
       "25%    1.562853e+07    584.000000     32.000000      3.000000       0.000000   \n",
       "50%    1.569074e+07    652.000000     37.000000      5.000000   97198.540000   \n",
       "75%    1.575323e+07    718.000000     44.000000      7.000000  127644.240000   \n",
       "max    1.581569e+07    850.000000     92.000000     10.000000  250898.090000   \n",
       "\n",
       "       NumOfProducts    HasCrCard  IsActiveMember  EstimatedSalary  \\\n",
       "count   10000.000000  10000.00000    10000.000000     10000.000000   \n",
       "mean        1.530200      0.70550        0.515100    100090.239881   \n",
       "std         0.581654      0.45584        0.499797     57510.492818   \n",
       "min         1.000000      0.00000        0.000000        11.580000   \n",
       "25%         1.000000      0.00000        0.000000     51002.110000   \n",
       "50%         1.000000      1.00000        1.000000    100193.915000   \n",
       "75%         2.000000      1.00000        1.000000    149388.247500   \n",
       "max         4.000000      1.00000        1.000000    199992.480000   \n",
       "\n",
       "             Exited  \n",
       "count  10000.000000  \n",
       "mean       0.203700  \n",
       "std        0.402769  \n",
       "min        0.000000  \n",
       "25%        0.000000  \n",
       "50%        0.000000  \n",
       "75%        0.000000  \n",
       "max        1.000000  "
      ]
     },
     "execution_count": 7,
     "metadata": {},
     "output_type": "execute_result"
    }
   ],
   "source": [
    "df.describe()"
   ]
  },
  {
   "cell_type": "code",
   "execution_count": 8,
   "id": "4f3b9b40",
   "metadata": {
    "execution": {
     "iopub.execute_input": "2022-03-02T20:14:46.583733Z",
     "iopub.status.busy": "2022-03-02T20:14:46.583062Z",
     "iopub.status.idle": "2022-03-02T20:14:46.588869Z",
     "shell.execute_reply": "2022-03-02T20:14:46.589430Z",
     "shell.execute_reply.started": "2022-03-02T20:12:31.189329Z"
    },
    "papermill": {
     "duration": 0.110913,
     "end_time": "2022-03-02T20:14:46.589623",
     "exception": false,
     "start_time": "2022-03-02T20:14:46.478710",
     "status": "completed"
    },
    "tags": []
   },
   "outputs": [
    {
     "data": {
      "text/plain": [
       "array(['France', 'Spain', 'Germany'], dtype=object)"
      ]
     },
     "execution_count": 8,
     "metadata": {},
     "output_type": "execute_result"
    }
   ],
   "source": [
    "df.Geography.unique()"
   ]
  },
  {
   "cell_type": "code",
   "execution_count": 9,
   "id": "2086b6c9",
   "metadata": {
    "execution": {
     "iopub.execute_input": "2022-03-02T20:14:46.799677Z",
     "iopub.status.busy": "2022-03-02T20:14:46.798969Z",
     "iopub.status.idle": "2022-03-02T20:14:46.804293Z",
     "shell.execute_reply": "2022-03-02T20:14:46.804813Z",
     "shell.execute_reply.started": "2022-03-02T20:12:31.197798Z"
    },
    "papermill": {
     "duration": 0.11248,
     "end_time": "2022-03-02T20:14:46.805019",
     "exception": false,
     "start_time": "2022-03-02T20:14:46.692539",
     "status": "completed"
    },
    "tags": []
   },
   "outputs": [
    {
     "data": {
      "text/plain": [
       "array([ 2,  1,  8,  7,  4,  6,  3, 10,  5,  9,  0])"
      ]
     },
     "execution_count": 9,
     "metadata": {},
     "output_type": "execute_result"
    }
   ],
   "source": [
    "df.Tenure.unique()"
   ]
  },
  {
   "cell_type": "code",
   "execution_count": 10,
   "id": "36fc02e1",
   "metadata": {
    "execution": {
     "iopub.execute_input": "2022-03-02T20:14:47.015545Z",
     "iopub.status.busy": "2022-03-02T20:14:47.014803Z",
     "iopub.status.idle": "2022-03-02T20:14:47.020990Z",
     "shell.execute_reply": "2022-03-02T20:14:47.020447Z",
     "shell.execute_reply.started": "2022-03-02T20:12:31.212968Z"
    },
    "papermill": {
     "duration": 0.112926,
     "end_time": "2022-03-02T20:14:47.021171",
     "exception": false,
     "start_time": "2022-03-02T20:14:46.908245",
     "status": "completed"
    },
    "tags": []
   },
   "outputs": [
    {
     "data": {
      "text/plain": [
       "array([1, 3, 2, 4])"
      ]
     },
     "execution_count": 10,
     "metadata": {},
     "output_type": "execute_result"
    }
   ],
   "source": [
    "df.NumOfProducts.unique()"
   ]
  },
  {
   "cell_type": "markdown",
   "id": "da2b2662",
   "metadata": {
    "papermill": {
     "duration": 0.102869,
     "end_time": "2022-03-02T20:14:47.227025",
     "exception": false,
     "start_time": "2022-03-02T20:14:47.124156",
     "status": "completed"
    },
    "tags": []
   },
   "source": [
    "# Visualization"
   ]
  },
  {
   "cell_type": "code",
   "execution_count": 11,
   "id": "a511f01c",
   "metadata": {
    "execution": {
     "iopub.execute_input": "2022-03-02T20:14:47.447519Z",
     "iopub.status.busy": "2022-03-02T20:14:47.446765Z",
     "iopub.status.idle": "2022-03-02T20:14:47.756788Z",
     "shell.execute_reply": "2022-03-02T20:14:47.757333Z",
     "shell.execute_reply.started": "2022-03-02T20:12:31.229083Z"
    },
    "papermill": {
     "duration": 0.426562,
     "end_time": "2022-03-02T20:14:47.757535",
     "exception": false,
     "start_time": "2022-03-02T20:14:47.330973",
     "status": "completed"
    },
    "tags": []
   },
   "outputs": [
    {
     "data": {
      "image/png": "[encoded data removed]",
      "text/plain": [
       "<Figure size 360x360 with 1 Axes>"
      ]
     },
     "metadata": {
      "needs_background": "light"
     },
     "output_type": "display_data"
    }
   ],
   "source": [
    "sns.catplot(x=\"Gender\", kind=\"count\", data=df);"
   ]
  },
  {
   "cell_type": "code",
   "execution_count": 12,
   "id": "c863670b",
   "metadata": {
    "execution": {
     "iopub.execute_input": "2022-03-02T20:14:48.028995Z",
     "iopub.status.busy": "2022-03-02T20:14:48.028006Z",
     "iopub.status.idle": "2022-03-02T20:14:48.039286Z",
     "shell.execute_reply": "2022-03-02T20:14:48.038403Z",
     "shell.execute_reply.started": "2022-03-02T20:12:31.498638Z"
    },
    "papermill": {
     "duration": 0.172943,
     "end_time": "2022-03-02T20:14:48.039517",
     "exception": false,
     "start_time": "2022-03-02T20:14:47.866574",
     "status": "completed"
    },
    "tags": []
   },
   "outputs": [
    {
     "data": {
      "text/plain": [
       "Male      54.57\n",
       "Female    45.43\n",
       "Name: Gender, dtype: float64"
      ]
     },
     "execution_count": 12,
     "metadata": {},
     "output_type": "execute_result"
    }
   ],
   "source": [
    "df.Gender.value_counts(normalize=True)*100"
   ]
  },
  {
   "cell_type": "markdown",
   "id": "4c1178a7",
   "metadata": {
    "papermill": {
     "duration": 0.119768,
     "end_time": "2022-03-02T20:14:48.276997",
     "exception": false,
     "start_time": "2022-03-02T20:14:48.157229",
     "status": "completed"
    },
    "tags": []
   },
   "source": [
    "#### More than 54% of customers are men"
   ]
  },
  {
   "cell_type": "code",
   "execution_count": 13,
   "id": "65e0a8fd",
   "metadata": {
    "execution": {
     "iopub.execute_input": "2022-03-02T20:14:48.493566Z",
     "iopub.status.busy": "2022-03-02T20:14:48.492574Z",
     "iopub.status.idle": "2022-03-02T20:14:48.874887Z",
     "shell.execute_reply": "2022-03-02T20:14:48.875525Z",
     "shell.execute_reply.started": "2022-03-02T20:12:31.922752Z"
    },
    "papermill": {
     "duration": 0.492614,
     "end_time": "2022-03-02T20:14:48.875728",
     "exception": false,
     "start_time": "2022-03-02T20:14:48.383114",
     "status": "completed"
    },
    "tags": []
   },
   "outputs": [
    {
     "data": {
      "image/png": "[encoded data removed]",
      "text/plain": [
       "<Figure size 432.125x360 with 1 Axes>"
      ]
     },
     "metadata": {
      "needs_background": "light"
     },
     "output_type": "display_data"
    }
   ],
   "source": [
    "sns.catplot(x=\"Geography\", kind=\"count\", data=df ,hue='Gender');"
   ]
  },
  {
   "cell_type": "code",
   "execution_count": 14,
   "id": "c9814eb1",
   "metadata": {
    "execution": {
     "iopub.execute_input": "2022-03-02T20:14:49.099022Z",
     "iopub.status.busy": "2022-03-02T20:14:49.098343Z",
     "iopub.status.idle": "2022-03-02T20:14:49.108643Z",
     "shell.execute_reply": "2022-03-02T20:14:49.107937Z",
     "shell.execute_reply.started": "2022-03-02T20:12:32.292673Z"
    },
    "papermill": {
     "duration": 0.126904,
     "end_time": "2022-03-02T20:14:49.108812",
     "exception": false,
     "start_time": "2022-03-02T20:14:48.981908",
     "status": "completed"
    },
    "tags": []
   },
   "outputs": [
    {
     "data": {
      "text/plain": [
       "Geography  Gender\n",
       "France     Male      54.906262\n",
       "           Female    45.093738\n",
       "Germany    Male      52.451176\n",
       "           Female    47.548824\n",
       "Spain      Male      56.035527\n",
       "           Female    43.964473\n",
       "Name: Gender, dtype: float64"
      ]
     },
     "execution_count": 14,
     "metadata": {},
     "output_type": "execute_result"
    }
   ],
   "source": [
    "df.groupby('Geography').Gender.value_counts(normalize=True)*100"
   ]
  },
  {
   "cell_type": "code",
   "execution_count": 15,
   "id": "19b1f6c7",
   "metadata": {
    "execution": {
     "iopub.execute_input": "2022-03-02T20:14:49.336555Z",
     "iopub.status.busy": "2022-03-02T20:14:49.335793Z",
     "iopub.status.idle": "2022-03-02T20:14:49.651373Z",
     "shell.execute_reply": "2022-03-02T20:14:49.650585Z",
     "shell.execute_reply.started": "2022-03-02T20:12:32.310003Z"
    },
    "papermill": {
     "duration": 0.435878,
     "end_time": "2022-03-02T20:14:49.651580",
     "exception": false,
     "start_time": "2022-03-02T20:14:49.215702",
     "status": "completed"
    },
    "tags": []
   },
   "outputs": [
    {
     "data": {
      "image/png": "[encoded data removed]",
      "text/plain": [
       "<Figure size 402.375x360 with 1 Axes>"
      ]
     },
     "metadata": {
      "needs_background": "light"
     },
     "output_type": "display_data"
    }
   ],
   "source": [
    "sns.catplot(x=\"Gender\", kind=\"count\", data=df ,hue='Exited');"
   ]
  },
  {
   "cell_type": "code",
   "execution_count": 16,
   "id": "3109e6eb",
   "metadata": {
    "execution": {
     "iopub.execute_input": "2022-03-02T20:14:49.875805Z",
     "iopub.status.busy": "2022-03-02T20:14:49.875126Z",
     "iopub.status.idle": "2022-03-02T20:14:49.882946Z",
     "shell.execute_reply": "2022-03-02T20:14:49.883496Z",
     "shell.execute_reply.started": "2022-03-02T20:12:32.641448Z"
    },
    "papermill": {
     "duration": 0.124669,
     "end_time": "2022-03-02T20:14:49.883686",
     "exception": false,
     "start_time": "2022-03-02T20:14:49.759017",
     "status": "completed"
    },
    "tags": []
   },
   "outputs": [
    {
     "data": {
      "text/plain": [
       "Gender  Exited\n",
       "Female  0         74.928461\n",
       "        1         25.071539\n",
       "Male    0         83.544072\n",
       "        1         16.455928\n",
       "Name: Exited, dtype: float64"
      ]
     },
     "execution_count": 16,
     "metadata": {},
     "output_type": "execute_result"
    }
   ],
   "source": [
    "df.groupby('Gender').Exited.value_counts(normalize=True)*100"
   ]
  },
  {
   "cell_type": "code",
   "execution_count": 17,
   "id": "980f520a",
   "metadata": {
    "execution": {
     "iopub.execute_input": "2022-03-02T20:14:50.105857Z",
     "iopub.status.busy": "2022-03-02T20:14:50.105201Z",
     "iopub.status.idle": "2022-03-02T20:14:50.114143Z",
     "shell.execute_reply": "2022-03-02T20:14:50.114819Z",
     "shell.execute_reply.started": "2022-03-02T20:12:32.658433Z"
    },
    "papermill": {
     "duration": 0.124247,
     "end_time": "2022-03-02T20:14:50.115015",
     "exception": false,
     "start_time": "2022-03-02T20:14:49.990768",
     "status": "completed"
    },
    "tags": []
   },
   "outputs": [
    {
     "data": {
      "text/plain": [
       "Gender  Exited\n",
       "Female  0         3404\n",
       "        1         1139\n",
       "Male    0         4559\n",
       "        1          898\n",
       "Name: Exited, dtype: int64"
      ]
     },
     "execution_count": 17,
     "metadata": {},
     "output_type": "execute_result"
    }
   ],
   "source": [
    "df.groupby('Gender').Exited.value_counts()"
   ]
  },
  {
   "cell_type": "code",
   "execution_count": 18,
   "id": "6944b2c3",
   "metadata": {
    "execution": {
     "iopub.execute_input": "2022-03-02T20:14:50.335098Z",
     "iopub.status.busy": "2022-03-02T20:14:50.334425Z",
     "iopub.status.idle": "2022-03-02T20:14:50.996140Z",
     "shell.execute_reply": "2022-03-02T20:14:50.995604Z",
     "shell.execute_reply.started": "2022-03-02T20:12:32.669385Z"
    },
    "papermill": {
     "duration": 0.772414,
     "end_time": "2022-03-02T20:14:50.996321",
     "exception": false,
     "start_time": "2022-03-02T20:14:50.223907",
     "status": "completed"
    },
    "tags": []
   },
   "outputs": [
    {
     "data": {
      "image/png": "[encoded data removed]",
      "text/plain": [
       "<Figure size 1440x864 with 4 Axes>"
      ]
     },
     "metadata": {
      "needs_background": "light"
     },
     "output_type": "display_data"
    }
   ],
   "source": [
    "fig, axarr = plt.subplots(2, 2, figsize=(20, 12))\n",
    "sns.countplot(x='Geography', hue = 'Exited',data = df, ax=axarr[0][0])\n",
    "sns.countplot(x='Gender', hue = 'Exited',data = df, ax=axarr[0][1])\n",
    "sns.countplot(x='HasCrCard', hue = 'Exited',data = df, ax=axarr[1][0])\n",
    "sns.countplot(x='IsActiveMember', hue = 'Exited',data = df, ax=axarr[1][1]);"
   ]
  },
  {
   "cell_type": "code",
   "execution_count": 19,
   "id": "de31c758",
   "metadata": {
    "execution": {
     "iopub.execute_input": "2022-03-02T20:14:51.222539Z",
     "iopub.status.busy": "2022-03-02T20:14:51.221863Z",
     "iopub.status.idle": "2022-03-02T20:14:51.229654Z",
     "shell.execute_reply": "2022-03-02T20:14:51.230341Z",
     "shell.execute_reply.started": "2022-03-02T20:12:33.361592Z"
    },
    "papermill": {
     "duration": 0.122473,
     "end_time": "2022-03-02T20:14:51.230528",
     "exception": false,
     "start_time": "2022-03-02T20:14:51.108055",
     "status": "completed"
    },
    "tags": []
   },
   "outputs": [
    {
     "data": {
      "text/plain": [
       "Geography  Exited\n",
       "France     0         83.845233\n",
       "           1         16.154767\n",
       "Germany    0         67.556796\n",
       "           1         32.443204\n",
       "Spain      0         83.326605\n",
       "           1         16.673395\n",
       "Name: Exited, dtype: float64"
      ]
     },
     "execution_count": 19,
     "metadata": {},
     "output_type": "execute_result"
    }
   ],
   "source": [
    "\n",
    "df.groupby('Geography').Exited.value_counts(normalize=True)*100"
   ]
  },
  {
   "cell_type": "code",
   "execution_count": 20,
   "id": "06510fce",
   "metadata": {
    "execution": {
     "iopub.execute_input": "2022-03-02T20:14:51.465494Z",
     "iopub.status.busy": "2022-03-02T20:14:51.464806Z",
     "iopub.status.idle": "2022-03-02T20:14:52.899409Z",
     "shell.execute_reply": "2022-03-02T20:14:52.898873Z",
     "shell.execute_reply.started": "2022-03-02T20:12:33.375932Z"
    },
    "papermill": {
     "duration": 1.560247,
     "end_time": "2022-03-02T20:14:52.899569",
     "exception": false,
     "start_time": "2022-03-02T20:14:51.339322",
     "status": "completed"
    },
    "tags": []
   },
   "outputs": [
    {
     "data": {
      "image/png": "[encoded data removed]",
      "text/plain": [
       "<Figure size 1440x864 with 4 Axes>"
      ]
     },
     "metadata": {
      "needs_background": "light"
     },
     "output_type": "display_data"
    }
   ],
   "source": [
    "#sns.catplot(x=\"Gender\", kind=\"count\", data=df ,hue='Tenure');\n",
    "fig, axarr = plt.subplots(2, 2, figsize=(20, 12))\n",
    "sns.countplot(x='Geography', hue = 'Tenure',data = df, ax=axarr[0][0])\n",
    "sns.countplot(x='Gender', hue = 'Tenure',data = df, ax=axarr[0][1])\n",
    "sns.countplot(x='HasCrCard', hue = 'Tenure',data = df, ax=axarr[1][0])\n",
    "sns.countplot(x='IsActiveMember', hue = 'Tenure',data = df, ax=axarr[1][1]);"
   ]
  },
  {
   "cell_type": "code",
   "execution_count": 21,
   "id": "1a40f700",
   "metadata": {
    "execution": {
     "iopub.execute_input": "2022-03-02T20:14:53.132139Z",
     "iopub.status.busy": "2022-03-02T20:14:53.131484Z",
     "iopub.status.idle": "2022-03-02T20:14:53.665338Z",
     "shell.execute_reply": "2022-03-02T20:14:53.664455Z",
     "shell.execute_reply.started": "2022-03-02T20:12:34.790465Z"
    },
    "papermill": {
     "duration": 0.65452,
     "end_time": "2022-03-02T20:14:53.665522",
     "exception": false,
     "start_time": "2022-03-02T20:14:53.011002",
     "status": "completed"
    },
    "tags": []
   },
   "outputs": [
    {
     "data": {
      "image/png": "[encoded data removed]",
      "text/plain": [
       "<Figure size 441.875x360 with 1 Axes>"
      ]
     },
     "metadata": {
      "needs_background": "light"
     },
     "output_type": "display_data"
    }
   ],
   "source": [
    "sns.catplot(x=\"Tenure\", kind=\"count\", data=df ,hue='Geography');"
   ]
  },
  {
   "cell_type": "code",
   "execution_count": 22,
   "id": "9958ebec",
   "metadata": {
    "execution": {
     "iopub.execute_input": "2022-03-02T20:14:53.913018Z",
     "iopub.status.busy": "2022-03-02T20:14:53.912316Z",
     "iopub.status.idle": "2022-03-02T20:14:54.329429Z",
     "shell.execute_reply": "2022-03-02T20:14:54.328778Z",
     "shell.execute_reply.started": "2022-03-02T20:12:35.318357Z"
    },
    "papermill": {
     "duration": 0.547829,
     "end_time": "2022-03-02T20:14:54.329579",
     "exception": false,
     "start_time": "2022-03-02T20:14:53.781750",
     "status": "completed"
    },
    "tags": []
   },
   "outputs": [
    {
     "data": {
      "image/png": "[encoded data removed]",
      "text/plain": [
       "<Figure size 446x360 with 1 Axes>"
      ]
     },
     "metadata": {
      "needs_background": "light"
     },
     "output_type": "display_data"
    }
   ],
   "source": [
    "sns.catplot(x=\"Geography\", kind=\"count\", data=df ,hue='NumOfProducts');"
   ]
  },
  {
   "cell_type": "code",
   "execution_count": 23,
   "id": "1fdfd5ad",
   "metadata": {
    "execution": {
     "iopub.execute_input": "2022-03-02T20:14:54.560003Z",
     "iopub.status.busy": "2022-03-02T20:14:54.556459Z",
     "iopub.status.idle": "2022-03-02T20:14:54.569884Z",
     "shell.execute_reply": "2022-03-02T20:14:54.569382Z",
     "shell.execute_reply.started": "2022-03-02T20:12:35.737214Z"
    },
    "papermill": {
     "duration": 0.128338,
     "end_time": "2022-03-02T20:14:54.570029",
     "exception": false,
     "start_time": "2022-03-02T20:14:54.441691",
     "status": "completed"
    },
    "tags": []
   },
   "outputs": [
    {
     "data": {
      "text/plain": [
       "Geography  NumOfProducts\n",
       "France     1                50.139609\n",
       "           2                47.207818\n",
       "           3                 2.074192\n",
       "           4                 0.578381\n",
       "Germany    1                53.766441\n",
       "           2                41.450777\n",
       "           3                 3.826226\n",
       "           4                 0.956556\n",
       "Spain      1                49.293500\n",
       "           2                47.759386\n",
       "           3                 2.664514\n",
       "           4                 0.282600\n",
       "Name: NumOfProducts, dtype: float64"
      ]
     },
     "execution_count": 23,
     "metadata": {},
     "output_type": "execute_result"
    }
   ],
   "source": [
    "df.groupby('Geography').NumOfProducts.value_counts(normalize=True)*100"
   ]
  },
  {
   "cell_type": "code",
   "execution_count": 24,
   "id": "2b9e994f",
   "metadata": {
    "execution": {
     "iopub.execute_input": "2022-03-02T20:14:54.802087Z",
     "iopub.status.busy": "2022-03-02T20:14:54.801456Z",
     "iopub.status.idle": "2022-03-02T20:14:55.207430Z",
     "shell.execute_reply": "2022-03-02T20:14:55.207932Z",
     "shell.execute_reply.started": "2022-03-02T20:12:35.751528Z"
    },
    "papermill": {
     "duration": 0.525348,
     "end_time": "2022-03-02T20:14:55.208124",
     "exception": false,
     "start_time": "2022-03-02T20:14:54.682776",
     "status": "completed"
    },
    "tags": []
   },
   "outputs": [
    {
     "data": {
      "image/png": "[encoded data removed]",
      "text/plain": [
       "<Figure size 402.375x360 with 1 Axes>"
      ]
     },
     "metadata": {
      "needs_background": "light"
     },
     "output_type": "display_data"
    }
   ],
   "source": [
    "sns.catplot(x=\"Tenure\", kind=\"count\", data=df ,hue='Exited');"
   ]
  },
  {
   "cell_type": "code",
   "execution_count": 25,
   "id": "896dc9b8",
   "metadata": {
    "execution": {
     "iopub.execute_input": "2022-03-02T20:14:55.438759Z",
     "iopub.status.busy": "2022-03-02T20:14:55.438016Z",
     "iopub.status.idle": "2022-03-02T20:14:55.448428Z",
     "shell.execute_reply": "2022-03-02T20:14:55.448972Z",
     "shell.execute_reply.started": "2022-03-02T20:12:36.268859Z"
    },
    "papermill": {
     "duration": 0.127635,
     "end_time": "2022-03-02T20:14:55.449170",
     "exception": false,
     "start_time": "2022-03-02T20:14:55.321535",
     "status": "completed"
    },
    "tags": []
   },
   "outputs": [
    {
     "data": {
      "text/plain": [
       "Tenure  Exited\n",
       "0       0         76.997579\n",
       "        1         23.002421\n",
       "1       0         77.584541\n",
       "        1         22.415459\n",
       "2       0         80.820611\n",
       "        1         19.179389\n",
       "3       0         78.889990\n",
       "        1         21.110010\n",
       "4       0         79.474216\n",
       "        1         20.525784\n",
       "5       0         79.347826\n",
       "        1         20.652174\n",
       "6       0         79.731127\n",
       "        1         20.268873\n",
       "7       0         82.782101\n",
       "        1         17.217899\n",
       "8       0         80.780488\n",
       "        1         19.219512\n",
       "9       0         78.353659\n",
       "        1         21.646341\n",
       "10      0         79.387755\n",
       "        1         20.612245\n",
       "Name: Exited, dtype: float64"
      ]
     },
     "execution_count": 25,
     "metadata": {},
     "output_type": "execute_result"
    }
   ],
   "source": [
    "df.groupby('Tenure').Exited.value_counts(normalize=True)*100"
   ]
  },
  {
   "cell_type": "code",
   "execution_count": 26,
   "id": "5d40763c",
   "metadata": {
    "execution": {
     "iopub.execute_input": "2022-03-02T20:14:55.679509Z",
     "iopub.status.busy": "2022-03-02T20:14:55.678805Z",
     "iopub.status.idle": "2022-03-02T20:14:56.344259Z",
     "shell.execute_reply": "2022-03-02T20:14:56.344768Z",
     "shell.execute_reply.started": "2022-03-02T20:12:36.291430Z"
    },
    "papermill": {
     "duration": 0.782181,
     "end_time": "2022-03-02T20:14:56.344980",
     "exception": false,
     "start_time": "2022-03-02T20:14:55.562799",
     "status": "completed"
    },
    "tags": []
   },
   "outputs": [
    {
     "data": {
      "image/png": "[encoded data removed]",
      "text/plain": [
       "<Figure size 1440x864 with 4 Axes>"
      ]
     },
     "metadata": {
      "needs_background": "light"
     },
     "output_type": "display_data"
    }
   ],
   "source": [
    "fig, axarr = plt.subplots(2, 2, figsize=(20, 12))\n",
    "sns.boxplot(x = 'NumOfProducts',y='EstimatedSalary',data = df, ax=axarr[0][0])\n",
    "sns.boxplot(x = 'NumOfProducts', y='Age',data = df, ax=axarr[0][1])\n",
    "sns.boxplot(x=\"Gender\", y=\"EstimatedSalary\",data = df, ax=axarr[1][0])\n",
    "sns.boxplot(x=\"Gender\", y=\"Age\",data = df, ax=axarr[1][1]);"
   ]
  },
  {
   "cell_type": "code",
   "execution_count": 27,
   "id": "0465391e",
   "metadata": {
    "execution": {
     "iopub.execute_input": "2022-03-02T20:14:56.580502Z",
     "iopub.status.busy": "2022-03-02T20:14:56.579725Z",
     "iopub.status.idle": "2022-03-02T20:14:57.639315Z",
     "shell.execute_reply": "2022-03-02T20:14:57.639882Z",
     "shell.execute_reply.started": "2022-03-02T20:12:37.049958Z"
    },
    "papermill": {
     "duration": 1.178947,
     "end_time": "2022-03-02T20:14:57.640072",
     "exception": false,
     "start_time": "2022-03-02T20:14:56.461125",
     "status": "completed"
    },
    "tags": []
   },
   "outputs": [
    {
     "data": {
      "image/png": "[encoded data removed]",
      "text/plain": [
       "<Figure size 1440x864 with 6 Axes>"
      ]
     },
     "metadata": {
      "needs_background": "light"
     },
     "output_type": "display_data"
    }
   ],
   "source": [
    " fig, axarr = plt.subplots(3, 2, figsize=(20, 12))\n",
    "sns.boxplot(y='CreditScore',x = 'Exited', hue = 'Exited',data = df, ax=axarr[0][0])\n",
    "sns.boxplot(y='Age',x = 'Exited', hue = 'Exited',data = df , ax=axarr[0][1])\n",
    "sns.boxplot(y='Tenure',x = 'Exited', hue = 'Exited',data = df, ax=axarr[1][0])\n",
    "sns.boxplot(y='Balance',x = 'Exited', hue = 'Exited',data = df, ax=axarr[1][1])\n",
    "sns.boxplot(y='NumOfProducts',x = 'Exited', hue = 'Exited',data = df, ax=axarr[2][0])\n",
    "sns.boxplot(y='EstimatedSalary',x = 'Exited', hue = 'Exited',data = df, ax=axarr[2][1]);"
   ]
  },
  {
   "cell_type": "markdown",
   "id": "ed1fe45f",
   "metadata": {
    "papermill": {
     "duration": 0.118116,
     "end_time": "2022-03-02T20:14:57.879619",
     "exception": false,
     "start_time": "2022-03-02T20:14:57.761503",
     "status": "completed"
    },
    "tags": []
   },
   "source": [
    "## Prepare Data for Machine learning"
   ]
  },
  {
   "cell_type": "code",
   "execution_count": 28,
   "id": "404e4bd1",
   "metadata": {
    "execution": {
     "iopub.execute_input": "2022-03-02T20:14:58.123222Z",
     "iopub.status.busy": "2022-03-02T20:14:58.122346Z",
     "iopub.status.idle": "2022-03-02T20:14:58.127401Z",
     "shell.execute_reply": "2022-03-02T20:14:58.127964Z",
     "shell.execute_reply.started": "2022-03-02T20:12:38.211922Z"
    },
    "papermill": {
     "duration": 0.130576,
     "end_time": "2022-03-02T20:14:58.128173",
     "exception": false,
     "start_time": "2022-03-02T20:14:57.997597",
     "status": "completed"
    },
    "tags": []
   },
   "outputs": [],
   "source": [
    "Genders=pd.get_dummies(df['Gender'])\n",
    "df = pd.concat([df,Genders],axis=1)"
   ]
  },
  {
   "cell_type": "code",
   "execution_count": 29,
   "id": "fa2f4046",
   "metadata": {
    "execution": {
     "iopub.execute_input": "2022-03-02T20:14:58.369092Z",
     "iopub.status.busy": "2022-03-02T20:14:58.366464Z",
     "iopub.status.idle": "2022-03-02T20:14:58.391359Z",
     "shell.execute_reply": "2022-03-02T20:14:58.391878Z",
     "shell.execute_reply.started": "2022-03-02T20:12:38.225093Z"
    },
    "papermill": {
     "duration": 0.145988,
     "end_time": "2022-03-02T20:14:58.392086",
     "exception": false,
     "start_time": "2022-03-02T20:14:58.246098",
     "status": "completed"
    },
    "tags": []
   },
   "outputs": [
    {
     "data": {
      "text/html": [
       "<div>\n",
       "<style scoped>\n",
       "    .dataframe tbody tr th:only-of-type {\n",
       "        vertical-align: middle;\n",
       "    }\n",
       "\n",
       "    .dataframe tbody tr th {\n",
       "        vertical-align: top;\n",
       "    }\n",
       "\n",
       "    .dataframe thead th {\n",
       "        text-align: right;\n",
       "    }\n",
       "</style>\n",
       "<table border=\"1\" class=\"dataframe\">\n",
       "  <thead>\n",
       "    <tr style=\"text-align: right;\">\n",
       "      <th></th>\n",
       "      <th>CustomerId</th>\n",
       "      <th>CreditScore</th>\n",
       "      <th>Geography</th>\n",
       "      <th>Gender</th>\n",
       "      <th>Age</th>\n",
       "      <th>Tenure</th>\n",
       "      <th>Balance</th>\n",
       "      <th>NumOfProducts</th>\n",
       "      <th>HasCrCard</th>\n",
       "      <th>IsActiveMember</th>\n",
       "      <th>EstimatedSalary</th>\n",
       "      <th>Exited</th>\n",
       "      <th>Female</th>\n",
       "      <th>Male</th>\n",
       "      <th>France</th>\n",
       "      <th>Germany</th>\n",
       "      <th>Spain</th>\n",
       "    </tr>\n",
       "  </thead>\n",
       "  <tbody>\n",
       "    <tr>\n",
       "      <th>0</th>\n",
       "      <td>15634602</td>\n",
       "      <td>619</td>\n",
       "      <td>France</td>\n",
       "      <td>Female</td>\n",
       "      <td>42</td>\n",
       "      <td>2</td>\n",
       "      <td>0.00</td>\n",
       "      <td>1</td>\n",
       "      <td>1</td>\n",
       "      <td>1</td>\n",
       "      <td>101348.88</td>\n",
       "      <td>1</td>\n",
       "      <td>1</td>\n",
       "      <td>0</td>\n",
       "      <td>1</td>\n",
       "      <td>0</td>\n",
       "      <td>0</td>\n",
       "    </tr>\n",
       "    <tr>\n",
       "      <th>1</th>\n",
       "      <td>15647311</td>\n",
       "      <td>608</td>\n",
       "      <td>Spain</td>\n",
       "      <td>Female</td>\n",
       "      <td>41</td>\n",
       "      <td>1</td>\n",
       "      <td>83807.86</td>\n",
       "      <td>1</td>\n",
       "      <td>0</td>\n",
       "      <td>1</td>\n",
       "      <td>112542.58</td>\n",
       "      <td>0</td>\n",
       "      <td>1</td>\n",
       "      <td>0</td>\n",
       "      <td>0</td>\n",
       "      <td>0</td>\n",
       "      <td>1</td>\n",
       "    </tr>\n",
       "    <tr>\n",
       "      <th>2</th>\n",
       "      <td>15619304</td>\n",
       "      <td>502</td>\n",
       "      <td>France</td>\n",
       "      <td>Female</td>\n",
       "      <td>42</td>\n",
       "      <td>8</td>\n",
       "      <td>159660.80</td>\n",
       "      <td>3</td>\n",
       "      <td>1</td>\n",
       "      <td>0</td>\n",
       "      <td>113931.57</td>\n",
       "      <td>1</td>\n",
       "      <td>1</td>\n",
       "      <td>0</td>\n",
       "      <td>1</td>\n",
       "      <td>0</td>\n",
       "      <td>0</td>\n",
       "    </tr>\n",
       "    <tr>\n",
       "      <th>3</th>\n",
       "      <td>15701354</td>\n",
       "      <td>699</td>\n",
       "      <td>France</td>\n",
       "      <td>Female</td>\n",
       "      <td>39</td>\n",
       "      <td>1</td>\n",
       "      <td>0.00</td>\n",
       "      <td>2</td>\n",
       "      <td>0</td>\n",
       "      <td>0</td>\n",
       "      <td>93826.63</td>\n",
       "      <td>0</td>\n",
       "      <td>1</td>\n",
       "      <td>0</td>\n",
       "      <td>1</td>\n",
       "      <td>0</td>\n",
       "      <td>0</td>\n",
       "    </tr>\n",
       "    <tr>\n",
       "      <th>4</th>\n",
       "      <td>15737888</td>\n",
       "      <td>850</td>\n",
       "      <td>Spain</td>\n",
       "      <td>Female</td>\n",
       "      <td>43</td>\n",
       "      <td>2</td>\n",
       "      <td>125510.82</td>\n",
       "      <td>1</td>\n",
       "      <td>1</td>\n",
       "      <td>1</td>\n",
       "      <td>79084.10</td>\n",
       "      <td>0</td>\n",
       "      <td>1</td>\n",
       "      <td>0</td>\n",
       "      <td>0</td>\n",
       "      <td>0</td>\n",
       "      <td>1</td>\n",
       "    </tr>\n",
       "    <tr>\n",
       "      <th>...</th>\n",
       "      <td>...</td>\n",
       "      <td>...</td>\n",
       "      <td>...</td>\n",
       "      <td>...</td>\n",
       "      <td>...</td>\n",
       "      <td>...</td>\n",
       "      <td>...</td>\n",
       "      <td>...</td>\n",
       "      <td>...</td>\n",
       "      <td>...</td>\n",
       "      <td>...</td>\n",
       "      <td>...</td>\n",
       "      <td>...</td>\n",
       "      <td>...</td>\n",
       "      <td>...</td>\n",
       "      <td>...</td>\n",
       "      <td>...</td>\n",
       "    </tr>\n",
       "    <tr>\n",
       "      <th>9995</th>\n",
       "      <td>15606229</td>\n",
       "      <td>771</td>\n",
       "      <td>France</td>\n",
       "      <td>Male</td>\n",
       "      <td>39</td>\n",
       "      <td>5</td>\n",
       "      <td>0.00</td>\n",
       "      <td>2</td>\n",
       "      <td>1</td>\n",
       "      <td>0</td>\n",
       "      <td>96270.64</td>\n",
       "      <td>0</td>\n",
       "      <td>0</td>\n",
       "      <td>1</td>\n",
       "      <td>1</td>\n",
       "      <td>0</td>\n",
       "      <td>0</td>\n",
       "    </tr>\n",
       "    <tr>\n",
       "      <th>9996</th>\n",
       "      <td>15569892</td>\n",
       "      <td>516</td>\n",
       "      <td>France</td>\n",
       "      <td>Male</td>\n",
       "      <td>35</td>\n",
       "      <td>10</td>\n",
       "      <td>57369.61</td>\n",
       "      <td>1</td>\n",
       "      <td>1</td>\n",
       "      <td>1</td>\n",
       "      <td>101699.77</td>\n",
       "      <td>0</td>\n",
       "      <td>0</td>\n",
       "      <td>1</td>\n",
       "      <td>1</td>\n",
       "      <td>0</td>\n",
       "      <td>0</td>\n",
       "    </tr>\n",
       "    <tr>\n",
       "      <th>9997</th>\n",
       "      <td>15584532</td>\n",
       "      <td>709</td>\n",
       "      <td>France</td>\n",
       "      <td>Female</td>\n",
       "      <td>36</td>\n",
       "      <td>7</td>\n",
       "      <td>0.00</td>\n",
       "      <td>1</td>\n",
       "      <td>0</td>\n",
       "      <td>1</td>\n",
       "      <td>42085.58</td>\n",
       "      <td>1</td>\n",
       "      <td>1</td>\n",
       "      <td>0</td>\n",
       "      <td>1</td>\n",
       "      <td>0</td>\n",
       "      <td>0</td>\n",
       "    </tr>\n",
       "    <tr>\n",
       "      <th>9998</th>\n",
       "      <td>15682355</td>\n",
       "      <td>772</td>\n",
       "      <td>Germany</td>\n",
       "      <td>Male</td>\n",
       "      <td>42</td>\n",
       "      <td>3</td>\n",
       "      <td>75075.31</td>\n",
       "      <td>2</td>\n",
       "      <td>1</td>\n",
       "      <td>0</td>\n",
       "      <td>92888.52</td>\n",
       "      <td>1</td>\n",
       "      <td>0</td>\n",
       "      <td>1</td>\n",
       "      <td>0</td>\n",
       "      <td>1</td>\n",
       "      <td>0</td>\n",
       "    </tr>\n",
       "    <tr>\n",
       "      <th>9999</th>\n",
       "      <td>15628319</td>\n",
       "      <td>792</td>\n",
       "      <td>France</td>\n",
       "      <td>Female</td>\n",
       "      <td>28</td>\n",
       "      <td>4</td>\n",
       "      <td>130142.79</td>\n",
       "      <td>1</td>\n",
       "      <td>1</td>\n",
       "      <td>0</td>\n",
       "      <td>38190.78</td>\n",
       "      <td>0</td>\n",
       "      <td>1</td>\n",
       "      <td>0</td>\n",
       "      <td>1</td>\n",
       "      <td>0</td>\n",
       "      <td>0</td>\n",
       "    </tr>\n",
       "  </tbody>\n",
       "</table>\n",
       "<p>10000 rows × 17 columns</p>\n",
       "</div>"
      ],
      "text/plain": [
       "      CustomerId  CreditScore Geography  Gender  Age  Tenure    Balance  \\\n",
       "0       15634602          619    France  Female   42       2       0.00   \n",
       "1       15647311          608     Spain  Female   41       1   83807.86   \n",
       "2       15619304          502    France  Female   42       8  159660.80   \n",
       "3       15701354          699    France  Female   39       1       0.00   \n",
       "4       15737888          850     Spain  Female   43       2  125510.82   \n",
       "...          ...          ...       ...     ...  ...     ...        ...   \n",
       "9995    15606229          771    France    Male   39       5       0.00   \n",
       "9996    15569892          516    France    Male   35      10   57369.61   \n",
       "9997    15584532          709    France  Female   36       7       0.00   \n",
       "9998    15682355          772   Germany    Male   42       3   75075.31   \n",
       "9999    15628319          792    France  Female   28       4  130142.79   \n",
       "\n",
       "      NumOfProducts  HasCrCard  IsActiveMember  EstimatedSalary  Exited  \\\n",
       "0                 1          1               1        101348.88       1   \n",
       "1                 1          0               1        112542.58       0   \n",
       "2                 3          1               0        113931.57       1   \n",
       "3                 2          0               0         93826.63       0   \n",
       "4                 1          1               1         79084.10       0   \n",
       "...             ...        ...             ...              ...     ...   \n",
       "9995              2          1               0         96270.64       0   \n",
       "9996              1          1               1        101699.77       0   \n",
       "9997              1          0               1         42085.58       1   \n",
       "9998              2          1               0         92888.52       1   \n",
       "9999              1          1               0         38190.78       0   \n",
       "\n",
       "      Female  Male  France  Germany  Spain  \n",
       "0          1     0       1        0      0  \n",
       "1          1     0       0        0      1  \n",
       "2          1     0       1        0      0  \n",
       "3          1     0       1        0      0  \n",
       "4          1     0       0        0      1  \n",
       "...      ...   ...     ...      ...    ...  \n",
       "9995       0     1       1        0      0  \n",
       "9996       0     1       1        0      0  \n",
       "9997       1     0       1        0      0  \n",
       "9998       0     1       0        1      0  \n",
       "9999       1     0       1        0      0  \n",
       "\n",
       "[10000 rows x 17 columns]"
      ]
     },
     "execution_count": 29,
     "metadata": {},
     "output_type": "execute_result"
    }
   ],
   "source": [
    "Geographys=pd.get_dummies(df['Geography'])\n",
    "df = pd.concat([df,Geographys],axis=1)\n",
    "df"
   ]
  },
  {
   "cell_type": "code",
   "execution_count": 30,
   "id": "fc14333d",
   "metadata": {
    "execution": {
     "iopub.execute_input": "2022-03-02T20:14:58.635362Z",
     "iopub.status.busy": "2022-03-02T20:14:58.633122Z",
     "iopub.status.idle": "2022-03-02T20:14:58.656704Z",
     "shell.execute_reply": "2022-03-02T20:14:58.656110Z",
     "shell.execute_reply.started": "2022-03-02T20:12:38.256565Z"
    },
    "papermill": {
     "duration": 0.146452,
     "end_time": "2022-03-02T20:14:58.656869",
     "exception": false,
     "start_time": "2022-03-02T20:14:58.510417",
     "status": "completed"
    },
    "tags": []
   },
   "outputs": [
    {
     "data": {
      "text/html": [
       "<div>\n",
       "<style scoped>\n",
       "    .dataframe tbody tr th:only-of-type {\n",
       "        vertical-align: middle;\n",
       "    }\n",
       "\n",
       "    .dataframe tbody tr th {\n",
       "        vertical-align: top;\n",
       "    }\n",
       "\n",
       "    .dataframe thead th {\n",
       "        text-align: right;\n",
       "    }\n",
       "</style>\n",
       "<table border=\"1\" class=\"dataframe\">\n",
       "  <thead>\n",
       "    <tr style=\"text-align: right;\">\n",
       "      <th></th>\n",
       "      <th>CreditScore</th>\n",
       "      <th>Age</th>\n",
       "      <th>Tenure</th>\n",
       "      <th>Balance</th>\n",
       "      <th>NumOfProducts</th>\n",
       "      <th>HasCrCard</th>\n",
       "      <th>IsActiveMember</th>\n",
       "      <th>EstimatedSalary</th>\n",
       "      <th>Exited</th>\n",
       "      <th>Female</th>\n",
       "      <th>Male</th>\n",
       "      <th>France</th>\n",
       "      <th>Germany</th>\n",
       "      <th>Spain</th>\n",
       "    </tr>\n",
       "  </thead>\n",
       "  <tbody>\n",
       "    <tr>\n",
       "      <th>0</th>\n",
       "      <td>619</td>\n",
       "      <td>42</td>\n",
       "      <td>2</td>\n",
       "      <td>0.00</td>\n",
       "      <td>1</td>\n",
       "      <td>1</td>\n",
       "      <td>1</td>\n",
       "      <td>101348.88</td>\n",
       "      <td>1</td>\n",
       "      <td>1</td>\n",
       "      <td>0</td>\n",
       "      <td>1</td>\n",
       "      <td>0</td>\n",
       "      <td>0</td>\n",
       "    </tr>\n",
       "    <tr>\n",
       "      <th>1</th>\n",
       "      <td>608</td>\n",
       "      <td>41</td>\n",
       "      <td>1</td>\n",
       "      <td>83807.86</td>\n",
       "      <td>1</td>\n",
       "      <td>0</td>\n",
       "      <td>1</td>\n",
       "      <td>112542.58</td>\n",
       "      <td>0</td>\n",
       "      <td>1</td>\n",
       "      <td>0</td>\n",
       "      <td>0</td>\n",
       "      <td>0</td>\n",
       "      <td>1</td>\n",
       "    </tr>\n",
       "    <tr>\n",
       "      <th>2</th>\n",
       "      <td>502</td>\n",
       "      <td>42</td>\n",
       "      <td>8</td>\n",
       "      <td>159660.80</td>\n",
       "      <td>3</td>\n",
       "      <td>1</td>\n",
       "      <td>0</td>\n",
       "      <td>113931.57</td>\n",
       "      <td>1</td>\n",
       "      <td>1</td>\n",
       "      <td>0</td>\n",
       "      <td>1</td>\n",
       "      <td>0</td>\n",
       "      <td>0</td>\n",
       "    </tr>\n",
       "    <tr>\n",
       "      <th>3</th>\n",
       "      <td>699</td>\n",
       "      <td>39</td>\n",
       "      <td>1</td>\n",
       "      <td>0.00</td>\n",
       "      <td>2</td>\n",
       "      <td>0</td>\n",
       "      <td>0</td>\n",
       "      <td>93826.63</td>\n",
       "      <td>0</td>\n",
       "      <td>1</td>\n",
       "      <td>0</td>\n",
       "      <td>1</td>\n",
       "      <td>0</td>\n",
       "      <td>0</td>\n",
       "    </tr>\n",
       "    <tr>\n",
       "      <th>4</th>\n",
       "      <td>850</td>\n",
       "      <td>43</td>\n",
       "      <td>2</td>\n",
       "      <td>125510.82</td>\n",
       "      <td>1</td>\n",
       "      <td>1</td>\n",
       "      <td>1</td>\n",
       "      <td>79084.10</td>\n",
       "      <td>0</td>\n",
       "      <td>1</td>\n",
       "      <td>0</td>\n",
       "      <td>0</td>\n",
       "      <td>0</td>\n",
       "      <td>1</td>\n",
       "    </tr>\n",
       "    <tr>\n",
       "      <th>...</th>\n",
       "      <td>...</td>\n",
       "      <td>...</td>\n",
       "      <td>...</td>\n",
       "      <td>...</td>\n",
       "      <td>...</td>\n",
       "      <td>...</td>\n",
       "      <td>...</td>\n",
       "      <td>...</td>\n",
       "      <td>...</td>\n",
       "      <td>...</td>\n",
       "      <td>...</td>\n",
       "      <td>...</td>\n",
       "      <td>...</td>\n",
       "      <td>...</td>\n",
       "    </tr>\n",
       "    <tr>\n",
       "      <th>9995</th>\n",
       "      <td>771</td>\n",
       "      <td>39</td>\n",
       "      <td>5</td>\n",
       "      <td>0.00</td>\n",
       "      <td>2</td>\n",
       "      <td>1</td>\n",
       "      <td>0</td>\n",
       "      <td>96270.64</td>\n",
       "      <td>0</td>\n",
       "      <td>0</td>\n",
       "      <td>1</td>\n",
       "      <td>1</td>\n",
       "      <td>0</td>\n",
       "      <td>0</td>\n",
       "    </tr>\n",
       "    <tr>\n",
       "      <th>9996</th>\n",
       "      <td>516</td>\n",
       "      <td>35</td>\n",
       "      <td>10</td>\n",
       "      <td>57369.61</td>\n",
       "      <td>1</td>\n",
       "      <td>1</td>\n",
       "      <td>1</td>\n",
       "      <td>101699.77</td>\n",
       "      <td>0</td>\n",
       "      <td>0</td>\n",
       "      <td>1</td>\n",
       "      <td>1</td>\n",
       "      <td>0</td>\n",
       "      <td>0</td>\n",
       "    </tr>\n",
       "    <tr>\n",
       "      <th>9997</th>\n",
       "      <td>709</td>\n",
       "      <td>36</td>\n",
       "      <td>7</td>\n",
       "      <td>0.00</td>\n",
       "      <td>1</td>\n",
       "      <td>0</td>\n",
       "      <td>1</td>\n",
       "      <td>42085.58</td>\n",
       "      <td>1</td>\n",
       "      <td>1</td>\n",
       "      <td>0</td>\n",
       "      <td>1</td>\n",
       "      <td>0</td>\n",
       "      <td>0</td>\n",
       "    </tr>\n",
       "    <tr>\n",
       "      <th>9998</th>\n",
       "      <td>772</td>\n",
       "      <td>42</td>\n",
       "      <td>3</td>\n",
       "      <td>75075.31</td>\n",
       "      <td>2</td>\n",
       "      <td>1</td>\n",
       "      <td>0</td>\n",
       "      <td>92888.52</td>\n",
       "      <td>1</td>\n",
       "      <td>0</td>\n",
       "      <td>1</td>\n",
       "      <td>0</td>\n",
       "      <td>1</td>\n",
       "      <td>0</td>\n",
       "    </tr>\n",
       "    <tr>\n",
       "      <th>9999</th>\n",
       "      <td>792</td>\n",
       "      <td>28</td>\n",
       "      <td>4</td>\n",
       "      <td>130142.79</td>\n",
       "      <td>1</td>\n",
       "      <td>1</td>\n",
       "      <td>0</td>\n",
       "      <td>38190.78</td>\n",
       "      <td>0</td>\n",
       "      <td>1</td>\n",
       "      <td>0</td>\n",
       "      <td>1</td>\n",
       "      <td>0</td>\n",
       "      <td>0</td>\n",
       "    </tr>\n",
       "  </tbody>\n",
       "</table>\n",
       "<p>10000 rows × 14 columns</p>\n",
       "</div>"
      ],
      "text/plain": [
       "      CreditScore  Age  Tenure    Balance  NumOfProducts  HasCrCard  \\\n",
       "0             619   42       2       0.00              1          1   \n",
       "1             608   41       1   83807.86              1          0   \n",
       "2             502   42       8  159660.80              3          1   \n",
       "3             699   39       1       0.00              2          0   \n",
       "4             850   43       2  125510.82              1          1   \n",
       "...           ...  ...     ...        ...            ...        ...   \n",
       "9995          771   39       5       0.00              2          1   \n",
       "9996          516   35      10   57369.61              1          1   \n",
       "9997          709   36       7       0.00              1          0   \n",
       "9998          772   42       3   75075.31              2          1   \n",
       "9999          792   28       4  130142.79              1          1   \n",
       "\n",
       "      IsActiveMember  EstimatedSalary  Exited  Female  Male  France  Germany  \\\n",
       "0                  1        101348.88       1       1     0       1        0   \n",
       "1                  1        112542.58       0       1     0       0        0   \n",
       "2                  0        113931.57       1       1     0       1        0   \n",
       "3                  0         93826.63       0       1     0       1        0   \n",
       "4                  1         79084.10       0       1     0       0        0   \n",
       "...              ...              ...     ...     ...   ...     ...      ...   \n",
       "9995               0         96270.64       0       0     1       1        0   \n",
       "9996               1        101699.77       0       0     1       1        0   \n",
       "9997               1         42085.58       1       1     0       1        0   \n",
       "9998               0         92888.52       1       0     1       0        1   \n",
       "9999               0         38190.78       0       1     0       1        0   \n",
       "\n",
       "      Spain  \n",
       "0         0  \n",
       "1         1  \n",
       "2         0  \n",
       "3         0  \n",
       "4         1  \n",
       "...     ...  \n",
       "9995      0  \n",
       "9996      0  \n",
       "9997      0  \n",
       "9998      0  \n",
       "9999      0  \n",
       "\n",
       "[10000 rows x 14 columns]"
      ]
     },
     "execution_count": 30,
     "metadata": {},
     "output_type": "execute_result"
    }
   ],
   "source": [
    "df.drop(['Gender', 'Geography','CustomerId'], axis=1, inplace=True)\n",
    "df"
   ]
  },
  {
   "cell_type": "code",
   "execution_count": 31,
   "id": "480f5765",
   "metadata": {
    "execution": {
     "iopub.execute_input": "2022-03-02T20:14:58.912797Z",
     "iopub.status.busy": "2022-03-02T20:14:58.912124Z",
     "iopub.status.idle": "2022-03-02T20:15:00.497221Z",
     "shell.execute_reply": "2022-03-02T20:15:00.497973Z",
     "shell.execute_reply.started": "2022-03-02T20:12:38.285820Z"
    },
    "papermill": {
     "duration": 1.714445,
     "end_time": "2022-03-02T20:15:00.498192",
     "exception": false,
     "start_time": "2022-03-02T20:14:58.783747",
     "status": "completed"
    },
    "tags": []
   },
   "outputs": [
    {
     "data": {
      "image/png": "[encoded data removed]",
      "text/plain": [
       "<Figure size 1080x864 with 2 Axes>"
      ]
     },
     "metadata": {
      "needs_background": "light"
     },
     "output_type": "display_data"
    }
   ],
   "source": [
    "corr = df.corr()\n",
    "plt.figure(figsize=(15,12)) \n",
    "sns.heatmap(corr, cmap='viridis', annot=True);"
   ]
  },
  {
   "cell_type": "code",
   "execution_count": 32,
   "id": "ebb2fcf8",
   "metadata": {
    "execution": {
     "iopub.execute_input": "2022-03-02T20:15:00.753405Z",
     "iopub.status.busy": "2022-03-02T20:15:00.752537Z",
     "iopub.status.idle": "2022-03-02T20:15:01.011855Z",
     "shell.execute_reply": "2022-03-02T20:15:01.011133Z",
     "shell.execute_reply.started": "2022-03-02T20:12:39.853961Z"
    },
    "papermill": {
     "duration": 0.388708,
     "end_time": "2022-03-02T20:15:01.012028",
     "exception": false,
     "start_time": "2022-03-02T20:15:00.623320",
     "status": "completed"
    },
    "tags": []
   },
   "outputs": [],
   "source": [
    "from sklearn.linear_model import LogisticRegression # for Logistic Regression Algorithm\n",
    "from sklearn.model_selection import train_test_split # to split the dataset for training and testing \n",
    "from sklearn import metrics # for checking the model accuracy"
   ]
  },
  {
   "cell_type": "code",
   "execution_count": 33,
   "id": "cd65ab9a",
   "metadata": {
    "execution": {
     "iopub.execute_input": "2022-03-02T20:15:01.264205Z",
     "iopub.status.busy": "2022-03-02T20:15:01.263209Z",
     "iopub.status.idle": "2022-03-02T20:15:01.276143Z",
     "shell.execute_reply": "2022-03-02T20:15:01.276786Z",
     "shell.execute_reply.started": "2022-03-02T20:12:39.859335Z"
    },
    "papermill": {
     "duration": 0.141862,
     "end_time": "2022-03-02T20:15:01.277002",
     "exception": false,
     "start_time": "2022-03-02T20:15:01.135140",
     "status": "completed"
    },
    "tags": []
   },
   "outputs": [
    {
     "name": "stdout",
     "output_type": "stream",
     "text": [
      "(8000, 13)\n",
      "(8000,)\n",
      "(2000, 13)\n",
      "(2000,)\n"
     ]
    }
   ],
   "source": [
    "X = df.drop(['Exited'], axis=1)\n",
    "y = df['Exited']\n",
    "X_train, X_test, y_train, y_test = train_test_split(X, y, test_size=0.2, random_state=5)\n",
    "print(X_train.shape)\n",
    "print(y_train.shape)\n",
    "print(X_test.shape)\n",
    "print(y_test.shape)"
   ]
  },
  {
   "cell_type": "markdown",
   "id": "46a44481",
   "metadata": {
    "papermill": {
     "duration": 0.125148,
     "end_time": "2022-03-02T20:15:01.525779",
     "exception": false,
     "start_time": "2022-03-02T20:15:01.400631",
     "status": "completed"
    },
    "tags": []
   },
   "source": [
    "# Models"
   ]
  },
  {
   "cell_type": "markdown",
   "id": "1faeb429",
   "metadata": {
    "papermill": {
     "duration": 0.130834,
     "end_time": "2022-03-02T20:15:01.780859",
     "exception": false,
     "start_time": "2022-03-02T20:15:01.650025",
     "status": "completed"
    },
    "tags": []
   },
   "source": [
    "## logistic Regression"
   ]
  },
  {
   "cell_type": "code",
   "execution_count": 34,
   "id": "8daf4dbf",
   "metadata": {
    "execution": {
     "iopub.execute_input": "2022-03-02T20:15:02.041699Z",
     "iopub.status.busy": "2022-03-02T20:15:02.040657Z",
     "iopub.status.idle": "2022-03-02T20:15:02.152950Z",
     "shell.execute_reply": "2022-03-02T20:15:02.154073Z",
     "shell.execute_reply.started": "2022-03-02T20:12:39.881802Z"
    },
    "papermill": {
     "duration": 0.244964,
     "end_time": "2022-03-02T20:15:02.154428",
     "exception": false,
     "start_time": "2022-03-02T20:15:01.909464",
     "status": "completed"
    },
    "tags": []
   },
   "outputs": [
    {
     "data": {
      "text/plain": [
       "LogisticRegression()"
      ]
     },
     "execution_count": 34,
     "metadata": {},
     "output_type": "execute_result"
    }
   ],
   "source": [
    "logreg = LogisticRegression()\n",
    "logreg.fit(X_train, y_train)"
   ]
  },
  {
   "cell_type": "code",
   "execution_count": 35,
   "id": "1973887b",
   "metadata": {
    "execution": {
     "iopub.execute_input": "2022-03-02T20:15:02.464757Z",
     "iopub.status.busy": "2022-03-02T20:15:02.463668Z",
     "iopub.status.idle": "2022-03-02T20:15:02.470289Z",
     "shell.execute_reply": "2022-03-02T20:15:02.471206Z",
     "shell.execute_reply.started": "2022-03-02T20:12:39.989787Z"
    },
    "papermill": {
     "duration": 0.139819,
     "end_time": "2022-03-02T20:15:02.471524",
     "exception": false,
     "start_time": "2022-03-02T20:15:02.331705",
     "status": "completed"
    },
    "tags": []
   },
   "outputs": [],
   "source": [
    "y_pred = logreg.predict(X_test)"
   ]
  },
  {
   "cell_type": "code",
   "execution_count": 36,
   "id": "d7d09cce",
   "metadata": {
    "execution": {
     "iopub.execute_input": "2022-03-02T20:15:02.799589Z",
     "iopub.status.busy": "2022-03-02T20:15:02.798771Z",
     "iopub.status.idle": "2022-03-02T20:15:02.803831Z",
     "shell.execute_reply": "2022-03-02T20:15:02.804743Z",
     "shell.execute_reply.started": "2022-03-02T20:12:40.013153Z"
    },
    "papermill": {
     "duration": 0.151188,
     "end_time": "2022-03-02T20:15:02.805043",
     "exception": false,
     "start_time": "2022-03-02T20:15:02.653855",
     "status": "completed"
    },
    "tags": []
   },
   "outputs": [
    {
     "name": "stdout",
     "output_type": "stream",
     "text": [
      "The accuracy of Logistic Regression is:  0.791\n"
     ]
    }
   ],
   "source": [
    "print('The accuracy of Logistic Regression is: ', (metrics.accuracy_score(y_test, y_pred)))\n"
   ]
  },
  {
   "cell_type": "code",
   "execution_count": 37,
   "id": "dfa05109",
   "metadata": {
    "execution": {
     "iopub.execute_input": "2022-03-02T20:15:03.085511Z",
     "iopub.status.busy": "2022-03-02T20:15:03.084311Z",
     "iopub.status.idle": "2022-03-02T20:15:03.122571Z",
     "shell.execute_reply": "2022-03-02T20:15:03.123529Z",
     "shell.execute_reply.started": "2022-03-02T20:12:40.025741Z"
    },
    "papermill": {
     "duration": 0.173745,
     "end_time": "2022-03-02T20:15:03.123854",
     "exception": false,
     "start_time": "2022-03-02T20:15:02.950109",
     "status": "completed"
    },
    "tags": []
   },
   "outputs": [
    {
     "name": "stdout",
     "output_type": "stream",
     "text": [
      "              precision    recall  f1-score   support\n",
      "\n",
      "           0       0.80      0.98      0.88      1595\n",
      "           1       0.36      0.04      0.08       405\n",
      "\n",
      "    accuracy                           0.79      2000\n",
      "   macro avg       0.58      0.51      0.48      2000\n",
      "weighted avg       0.71      0.79      0.72      2000\n",
      "\n"
     ]
    }
   ],
   "source": [
    "pd.crosstab(logreg.predict(X),y)\n",
    "from sklearn.metrics import confusion_matrix\n",
    "from sklearn.metrics import classification_report\n",
    "print(classification_report(y_test, y_pred))"
   ]
  },
  {
   "cell_type": "markdown",
   "id": "52391e83",
   "metadata": {
    "papermill": {
     "duration": 0.12484,
     "end_time": "2022-03-02T20:15:03.412560",
     "exception": false,
     "start_time": "2022-03-02T20:15:03.287720",
     "status": "completed"
    },
    "tags": []
   },
   "source": [
    "## KNN"
   ]
  },
  {
   "cell_type": "code",
   "execution_count": 38,
   "id": "f54bafbf",
   "metadata": {
    "execution": {
     "iopub.execute_input": "2022-03-02T20:15:03.670792Z",
     "iopub.status.busy": "2022-03-02T20:15:03.670078Z",
     "iopub.status.idle": "2022-03-02T20:15:03.789093Z",
     "shell.execute_reply": "2022-03-02T20:15:03.788330Z",
     "shell.execute_reply.started": "2022-03-02T20:12:40.076031Z"
    },
    "papermill": {
     "duration": 0.251412,
     "end_time": "2022-03-02T20:15:03.789501",
     "exception": true,
     "start_time": "2022-03-02T20:15:03.538089",
     "status": "failed"
    },
    "tags": []
   },
   "outputs": [
    {
     "ename": "NameError",
     "evalue": "name 'KNeighborsClassifier' is not defined",
     "output_type": "error",
     "traceback": [
      "\u001b[0;31m---------------------------------------------------------------------------\u001b[0m",
      "\u001b[0;31mNameError\u001b[0m                                 Traceback (most recent call last)",
      "\u001b[0;32m/tmp/ipykernel_20/1504660238.py\u001b[0m in \u001b[0;36m<module>\u001b[0;34m\u001b[0m\n\u001b[1;32m      3\u001b[0m \u001b[0;32mfor\u001b[0m \u001b[0mi\u001b[0m \u001b[0;32min\u001b[0m \u001b[0mrange\u001b[0m\u001b[0;34m(\u001b[0m\u001b[0;36m1\u001b[0m\u001b[0;34m,\u001b[0m\u001b[0;36m40\u001b[0m\u001b[0;34m)\u001b[0m\u001b[0;34m:\u001b[0m\u001b[0;34m\u001b[0m\u001b[0;34m\u001b[0m\u001b[0m\n\u001b[1;32m      4\u001b[0m \u001b[0;34m\u001b[0m\u001b[0m\n\u001b[0;32m----> 5\u001b[0;31m     \u001b[0mknn\u001b[0m \u001b[0;34m=\u001b[0m \u001b[0mKNeighborsClassifier\u001b[0m\u001b[0;34m(\u001b[0m\u001b[0mn_neighbors\u001b[0m\u001b[0;34m=\u001b[0m\u001b[0mi\u001b[0m\u001b[0;34m)\u001b[0m\u001b[0;34m\u001b[0m\u001b[0;34m\u001b[0m\u001b[0m\n\u001b[0m\u001b[1;32m      6\u001b[0m     \u001b[0mknn\u001b[0m\u001b[0;34m.\u001b[0m\u001b[0mfit\u001b[0m\u001b[0;34m(\u001b[0m\u001b[0mX_train\u001b[0m\u001b[0;34m,\u001b[0m\u001b[0my_train\u001b[0m\u001b[0;34m)\u001b[0m\u001b[0;34m\u001b[0m\u001b[0;34m\u001b[0m\u001b[0m\n\u001b[1;32m      7\u001b[0m     \u001b[0mpred_i\u001b[0m \u001b[0;34m=\u001b[0m \u001b[0mknn\u001b[0m\u001b[0;34m.\u001b[0m\u001b[0mpredict\u001b[0m\u001b[0;34m(\u001b[0m\u001b[0mX_test\u001b[0m\u001b[0;34m)\u001b[0m\u001b[0;34m\u001b[0m\u001b[0;34m\u001b[0m\u001b[0m\n",
      "\u001b[0;31mNameError\u001b[0m: name 'KNeighborsClassifier' is not defined"
     ]
    }
   ],
   "source": [
    "error_rate = []\n",
    "# Might take some time\n",
    "for i in range(1,40):\n",
    "    \n",
    "    knn = KNeighborsClassifier(n_neighbors=i)\n",
    "    knn.fit(X_train,y_train)\n",
    "    pred_i = knn.predict(X_test)\n",
    "    error_rate.append(np.mean(pred_i != y_test))"
   ]
  },
  {
   "cell_type": "code",
   "execution_count": null,
   "id": "c33e0e41",
   "metadata": {
    "execution": {
     "iopub.execute_input": "2022-03-02T20:12:44.253498Z",
     "iopub.status.busy": "2022-03-02T20:12:44.253252Z",
     "iopub.status.idle": "2022-03-02T20:12:44.490852Z",
     "shell.execute_reply": "2022-03-02T20:12:44.489854Z",
     "shell.execute_reply.started": "2022-03-02T20:12:44.253469Z"
    },
    "papermill": {
     "duration": null,
     "end_time": null,
     "exception": null,
     "start_time": null,
     "status": "pending"
    },
    "tags": []
   },
   "outputs": [],
   "source": [
    "plt.figure(figsize=(10,6))\n",
    "plt.plot(range(1,40),error_rate,color='blue', linestyle='dashed', marker='o',\n",
    "         markerfacecolor='red', markersize=10)\n",
    "plt.title('Error Rate vs. K Value')\n",
    "plt.xlabel('K')\n",
    "plt.ylabel('Error Rate');"
   ]
  },
  {
   "cell_type": "code",
   "execution_count": null,
   "id": "194f7c21",
   "metadata": {
    "execution": {
     "iopub.execute_input": "2022-03-02T20:12:44.492304Z",
     "iopub.status.busy": "2022-03-02T20:12:44.492088Z",
     "iopub.status.idle": "2022-03-02T20:12:44.608705Z",
     "shell.execute_reply": "2022-03-02T20:12:44.607482Z",
     "shell.execute_reply.started": "2022-03-02T20:12:44.492278Z"
    },
    "papermill": {
     "duration": null,
     "end_time": null,
     "exception": null,
     "start_time": null,
     "status": "pending"
    },
    "tags": []
   },
   "outputs": [],
   "source": [
    "from sklearn.neighbors import KNeighborsClassifier\n",
    "knn = KNeighborsClassifier(n_neighbors=20)\n",
    "knn.fit(X_train, y_train)\n",
    "y_pred1 = knn.predict(X_test)\n",
    "accuracy = accuracy_score(y_test, y_pred1) \n",
    "print(\"Accuracy of the DecisionTree Model: \",accuracy)"
   ]
  },
  {
   "cell_type": "code",
   "execution_count": null,
   "id": "51e7fcac",
   "metadata": {
    "execution": {
     "iopub.execute_input": "2022-03-02T20:12:44.610974Z",
     "iopub.status.busy": "2022-03-02T20:12:44.610599Z",
     "iopub.status.idle": "2022-03-02T20:12:44.625743Z",
     "shell.execute_reply": "2022-03-02T20:12:44.624442Z",
     "shell.execute_reply.started": "2022-03-02T20:12:44.610929Z"
    },
    "papermill": {
     "duration": null,
     "end_time": null,
     "exception": null,
     "start_time": null,
     "status": "pending"
    },
    "tags": []
   },
   "outputs": [],
   "source": [
    "print(classification_report(y_test, y_pred1))"
   ]
  },
  {
   "cell_type": "markdown",
   "id": "7dc903a7",
   "metadata": {
    "jp-MarkdownHeadingCollapsed": true,
    "papermill": {
     "duration": null,
     "end_time": null,
     "exception": null,
     "start_time": null,
     "status": "pending"
    },
    "tags": []
   },
   "source": [
    "## DecisionTreeClassifier"
   ]
  },
  {
   "cell_type": "code",
   "execution_count": null,
   "id": "c4f3506f",
   "metadata": {
    "execution": {
     "iopub.execute_input": "2022-03-02T20:12:44.627566Z",
     "iopub.status.busy": "2022-03-02T20:12:44.627249Z",
     "iopub.status.idle": "2022-03-02T20:12:44.697458Z",
     "shell.execute_reply": "2022-03-02T20:12:44.696596Z",
     "shell.execute_reply.started": "2022-03-02T20:12:44.627523Z"
    },
    "papermill": {
     "duration": null,
     "end_time": null,
     "exception": null,
     "start_time": null,
     "status": "pending"
    },
    "tags": []
   },
   "outputs": [],
   "source": [
    "from sklearn.tree import DecisionTreeClassifier\n",
    "from sklearn.metrics import confusion_matrix, accuracy_score\n",
    "classifier = DecisionTreeClassifier(criterion = 'entropy', random_state = 0)\n",
    "classifier.fit(X_train, y_train)\n",
    "y_pred2 = classifier.predict(X_test)\n",
    "cm = confusion_matrix(y_test, y_pred2)\n",
    "print(cm)\n",
    "accuracy = accuracy_score(y_test, y_pred2) \n",
    "print(\"Accuracy of the DecisionTree Model: \",accuracy)"
   ]
  },
  {
   "cell_type": "code",
   "execution_count": null,
   "id": "a54f0829",
   "metadata": {
    "execution": {
     "iopub.execute_input": "2022-03-02T20:12:44.698978Z",
     "iopub.status.busy": "2022-03-02T20:12:44.698728Z",
     "iopub.status.idle": "2022-03-02T20:12:44.711624Z",
     "shell.execute_reply": "2022-03-02T20:12:44.710792Z",
     "shell.execute_reply.started": "2022-03-02T20:12:44.698948Z"
    },
    "papermill": {
     "duration": null,
     "end_time": null,
     "exception": null,
     "start_time": null,
     "status": "pending"
    },
    "tags": []
   },
   "outputs": [],
   "source": [
    "print(classification_report(y_test, y_pred1))"
   ]
  },
  {
   "cell_type": "markdown",
   "id": "c5db404e",
   "metadata": {
    "papermill": {
     "duration": null,
     "end_time": null,
     "exception": null,
     "start_time": null,
     "status": "pending"
    },
    "tags": []
   },
   "source": [
    "## Random Forest"
   ]
  },
  {
   "cell_type": "code",
   "execution_count": null,
   "id": "7b4af897",
   "metadata": {
    "execution": {
     "iopub.execute_input": "2022-03-02T20:12:44.713179Z",
     "iopub.status.busy": "2022-03-02T20:12:44.712958Z",
     "iopub.status.idle": "2022-03-02T20:12:46.417198Z",
     "shell.execute_reply": "2022-03-02T20:12:46.416240Z",
     "shell.execute_reply.started": "2022-03-02T20:12:44.713152Z"
    },
    "papermill": {
     "duration": null,
     "end_time": null,
     "exception": null,
     "start_time": null,
     "status": "pending"
    },
    "tags": []
   },
   "outputs": [],
   "source": [
    "from sklearn.ensemble import RandomForestClassifier\n",
    "rfc = RandomForestClassifier(n_estimators=150 ,criterion = 'entropy', random_state = 42)\n",
    "rfc.fit(X_train, y_train)"
   ]
  },
  {
   "cell_type": "code",
   "execution_count": null,
   "id": "d0375065",
   "metadata": {
    "execution": {
     "iopub.execute_input": "2022-03-02T20:12:46.418806Z",
     "iopub.status.busy": "2022-03-02T20:12:46.418556Z",
     "iopub.status.idle": "2022-03-02T20:12:46.508063Z",
     "shell.execute_reply": "2022-03-02T20:12:46.506811Z",
     "shell.execute_reply.started": "2022-03-02T20:12:46.418775Z"
    },
    "papermill": {
     "duration": null,
     "end_time": null,
     "exception": null,
     "start_time": null,
     "status": "pending"
    },
    "tags": []
   },
   "outputs": [],
   "source": [
    "rfc_pred_test = rfc.predict(X_test)"
   ]
  },
  {
   "cell_type": "code",
   "execution_count": null,
   "id": "12faec43",
   "metadata": {
    "execution": {
     "iopub.execute_input": "2022-03-02T20:12:46.510515Z",
     "iopub.status.busy": "2022-03-02T20:12:46.509809Z",
     "iopub.status.idle": "2022-03-02T20:12:46.517145Z",
     "shell.execute_reply": "2022-03-02T20:12:46.516185Z",
     "shell.execute_reply.started": "2022-03-02T20:12:46.510470Z"
    },
    "papermill": {
     "duration": null,
     "end_time": null,
     "exception": null,
     "start_time": null,
     "status": "pending"
    },
    "tags": []
   },
   "outputs": [],
   "source": [
    "accuracy = accuracy_score(y_test, rfc_pred_test) \n",
    "print(\"Accuracy of the RandomForest Model: \",accuracy)"
   ]
  },
  {
   "cell_type": "code",
   "execution_count": null,
   "id": "e40235b5",
   "metadata": {
    "execution": {
     "iopub.execute_input": "2022-03-02T20:12:46.518997Z",
     "iopub.status.busy": "2022-03-02T20:12:46.518723Z",
     "iopub.status.idle": "2022-03-02T20:12:46.535171Z",
     "shell.execute_reply": "2022-03-02T20:12:46.533889Z",
     "shell.execute_reply.started": "2022-03-02T20:12:46.518961Z"
    },
    "papermill": {
     "duration": null,
     "end_time": null,
     "exception": null,
     "start_time": null,
     "status": "pending"
    },
    "tags": []
   },
   "outputs": [],
   "source": [
    "print(classification_report(y_test,rfc_pred_test))"
   ]
  },
  {
   "cell_type": "markdown",
   "id": "afafbf47",
   "metadata": {
    "papermill": {
     "duration": null,
     "end_time": null,
     "exception": null,
     "start_time": null,
     "status": "pending"
    },
    "tags": []
   },
   "source": [
    "## XGBoost"
   ]
  },
  {
   "cell_type": "code",
   "execution_count": null,
   "id": "02514055",
   "metadata": {
    "execution": {
     "iopub.execute_input": "2022-03-02T20:12:46.537426Z",
     "iopub.status.busy": "2022-03-02T20:12:46.537068Z",
     "iopub.status.idle": "2022-03-02T20:12:47.491060Z",
     "shell.execute_reply": "2022-03-02T20:12:47.489848Z",
     "shell.execute_reply.started": "2022-03-02T20:12:46.537388Z"
    },
    "papermill": {
     "duration": null,
     "end_time": null,
     "exception": null,
     "start_time": null,
     "status": "pending"
    },
    "tags": []
   },
   "outputs": [],
   "source": [
    "from xgboost import XGBClassifier\n",
    "model = XGBClassifier()\n",
    "model.fit(X_train, y_train)"
   ]
  },
  {
   "cell_type": "code",
   "execution_count": null,
   "id": "bb956773",
   "metadata": {
    "execution": {
     "iopub.execute_input": "2022-03-02T20:12:47.492623Z",
     "iopub.status.busy": "2022-03-02T20:12:47.492379Z",
     "iopub.status.idle": "2022-03-02T20:12:47.509523Z",
     "shell.execute_reply": "2022-03-02T20:12:47.507416Z",
     "shell.execute_reply.started": "2022-03-02T20:12:47.492592Z"
    },
    "papermill": {
     "duration": null,
     "end_time": null,
     "exception": null,
     "start_time": null,
     "status": "pending"
    },
    "tags": []
   },
   "outputs": [],
   "source": [
    "y_pred4 = model.predict(X_test)\n",
    "accuracy = accuracy_score(y_test, y_pred4) \n",
    "print(\"Accuracy of the XGBoosy Model: \",accuracy)"
   ]
  },
  {
   "cell_type": "code",
   "execution_count": null,
   "id": "e1684405",
   "metadata": {
    "execution": {
     "iopub.execute_input": "2022-03-02T20:12:47.511234Z",
     "iopub.status.busy": "2022-03-02T20:12:47.510804Z",
     "iopub.status.idle": "2022-03-02T20:12:47.528412Z",
     "shell.execute_reply": "2022-03-02T20:12:47.527251Z",
     "shell.execute_reply.started": "2022-03-02T20:12:47.511196Z"
    },
    "papermill": {
     "duration": null,
     "end_time": null,
     "exception": null,
     "start_time": null,
     "status": "pending"
    },
    "tags": []
   },
   "outputs": [],
   "source": [
    "print(classification_report(y_test,y_pred4))"
   ]
  },
  {
   "cell_type": "markdown",
   "id": "795aa1af",
   "metadata": {
    "papermill": {
     "duration": null,
     "end_time": null,
     "exception": null,
     "start_time": null,
     "status": "pending"
    },
    "tags": []
   },
   "source": [
    "## SVM"
   ]
  },
  {
   "cell_type": "code",
   "execution_count": null,
   "id": "3caf46bf",
   "metadata": {
    "execution": {
     "iopub.execute_input": "2022-03-02T20:12:47.530089Z",
     "iopub.status.busy": "2022-03-02T20:12:47.529840Z",
     "iopub.status.idle": "2022-03-02T20:12:47.534600Z",
     "shell.execute_reply": "2022-03-02T20:12:47.533561Z",
     "shell.execute_reply.started": "2022-03-02T20:12:47.530059Z"
    },
    "papermill": {
     "duration": null,
     "end_time": null,
     "exception": null,
     "start_time": null,
     "status": "pending"
    },
    "tags": []
   },
   "outputs": [],
   "source": [
    "from sklearn.svm import SVC\n",
    "classifier = SVC(kernel = 'rbf', random_state = 0)"
   ]
  },
  {
   "cell_type": "code",
   "execution_count": null,
   "id": "7c7aadc5",
   "metadata": {
    "execution": {
     "iopub.execute_input": "2022-03-02T20:12:47.536767Z",
     "iopub.status.busy": "2022-03-02T20:12:47.535854Z",
     "iopub.status.idle": "2022-03-02T20:12:49.239392Z",
     "shell.execute_reply": "2022-03-02T20:12:49.238536Z",
     "shell.execute_reply.started": "2022-03-02T20:12:47.536723Z"
    },
    "papermill": {
     "duration": null,
     "end_time": null,
     "exception": null,
     "start_time": null,
     "status": "pending"
    },
    "tags": []
   },
   "outputs": [],
   "source": [
    "classifier.fit(X_train, y_train)"
   ]
  },
  {
   "cell_type": "code",
   "execution_count": null,
   "id": "4741b6c8",
   "metadata": {
    "execution": {
     "iopub.execute_input": "2022-03-02T20:12:49.245262Z",
     "iopub.status.busy": "2022-03-02T20:12:49.244995Z",
     "iopub.status.idle": "2022-03-02T20:12:49.702861Z",
     "shell.execute_reply": "2022-03-02T20:12:49.701690Z",
     "shell.execute_reply.started": "2022-03-02T20:12:49.245232Z"
    },
    "papermill": {
     "duration": null,
     "end_time": null,
     "exception": null,
     "start_time": null,
     "status": "pending"
    },
    "tags": []
   },
   "outputs": [],
   "source": [
    "from sklearn.metrics import confusion_matrix, accuracy_score\n",
    "y_pred5 = classifier.predict(X_test)\n",
    "cm = confusion_matrix(y_test, y_pred5)\n",
    "print(cm)\n",
    "accuracy = accuracy_score(y_test, y_pred5) \n",
    "print(\"Accuracy of the SVM Model: \",accuracy)"
   ]
  },
  {
   "cell_type": "code",
   "execution_count": null,
   "id": "533f578f",
   "metadata": {
    "papermill": {
     "duration": null,
     "end_time": null,
     "exception": null,
     "start_time": null,
     "status": "pending"
    },
    "tags": []
   },
   "outputs": [],
   "source": []
  },
  {
   "cell_type": "code",
   "execution_count": null,
   "id": "30361f4d",
   "metadata": {
    "execution": {
     "iopub.execute_input": "2022-03-02T20:12:49.704986Z",
     "iopub.status.busy": "2022-03-02T20:12:49.704656Z",
     "iopub.status.idle": "2022-03-02T20:12:49.721731Z",
     "shell.execute_reply": "2022-03-02T20:12:49.720580Z",
     "shell.execute_reply.started": "2022-03-02T20:12:49.704951Z"
    },
    "papermill": {
     "duration": null,
     "end_time": null,
     "exception": null,
     "start_time": null,
     "status": "pending"
    },
    "tags": []
   },
   "outputs": [],
   "source": [
    "print(classification_report(y_test,y_pred4))"
   ]
  },
  {
   "cell_type": "markdown",
   "id": "1795b039",
   "metadata": {
    "papermill": {
     "duration": null,
     "end_time": null,
     "exception": null,
     "start_time": null,
     "status": "pending"
    },
    "tags": []
   },
   "source": [
    "# ROC Curves"
   ]
  },
  {
   "cell_type": "code",
   "execution_count": null,
   "id": "7911cfc2",
   "metadata": {
    "execution": {
     "iopub.execute_input": "2022-03-02T20:12:49.724003Z",
     "iopub.status.busy": "2022-03-02T20:12:49.723662Z",
     "iopub.status.idle": "2022-03-02T20:12:49.728470Z",
     "shell.execute_reply": "2022-03-02T20:12:49.727745Z",
     "shell.execute_reply.started": "2022-03-02T20:12:49.723955Z"
    },
    "papermill": {
     "duration": null,
     "end_time": null,
     "exception": null,
     "start_time": null,
     "status": "pending"
    },
    "tags": []
   },
   "outputs": [],
   "source": [
    "from sklearn.metrics import roc_curve , auc"
   ]
  },
  {
   "cell_type": "code",
   "execution_count": null,
   "id": "ac2fb1f5",
   "metadata": {
    "execution": {
     "iopub.execute_input": "2022-03-02T20:12:49.730231Z",
     "iopub.status.busy": "2022-03-02T20:12:49.729995Z",
     "iopub.status.idle": "2022-03-02T20:12:50.054126Z",
     "shell.execute_reply": "2022-03-02T20:12:50.052949Z",
     "shell.execute_reply.started": "2022-03-02T20:12:49.730195Z"
    },
    "papermill": {
     "duration": null,
     "end_time": null,
     "exception": null,
     "start_time": null,
     "status": "pending"
    },
    "tags": []
   },
   "outputs": [],
   "source": [
    "logistic_fpr,logistic_tpr,threshold = roc_curve(y_test,y_pred)\n",
    "auc_logistic = auc(logistic_fpr ,logistic_tpr)\n",
    "dt_fpr,dt_tpr,threshold_dt = roc_curve(y_test,y_pred2)\n",
    "auc_dt = auc(dt_fpr ,dt_tpr)\n",
    "rfc_fpr,rfc_tpr,threshold_rfc = roc_curve(y_test,rfc_pred_test)\n",
    "auc_rfc = auc(rfc_fpr ,rfc_tpr)\n",
    "XG_fpr,XG_tpr,threshold_XG = roc_curve(y_test,y_pred4)\n",
    "auc_XG = auc(XG_fpr ,XG_tpr)\n",
    "svm_fpr,svm_tpr,threshold_svm = roc_curve(y_test,y_pred5)\n",
    "auc_svm = auc(svm_fpr ,svm_tpr)\n",
    "knn_fpr,knn_tpr,threshold_knn = roc_curve(y_test,y_pred1)\n",
    "auc_knn = auc(knn_fpr ,knn_tpr)\n",
    "fig, ax = plt.subplots(figsize=(16,9))\n",
    "ax.plot(logistic_fpr ,logistic_tpr,label='logistic')\n",
    "ax.plot(dt_fpr ,dt_tpr,label='DT')\n",
    "ax.plot(rfc_fpr ,rfc_tpr ,label='RFC')\n",
    "ax.plot(XG_fpr ,XG_tpr ,label='XGBoost')\n",
    "ax.plot(svm_fpr ,svm_tpr ,label='SVM')\n",
    "ax.plot(knn_fpr ,knn_tpr ,label='KNN')\n",
    "plt.legend();"
   ]
  },
  {
   "cell_type": "markdown",
   "id": "752d7ba5",
   "metadata": {
    "papermill": {
     "duration": null,
     "end_time": null,
     "exception": null,
     "start_time": null,
     "status": "pending"
    },
    "tags": []
   },
   "source": [
    "# MinMax Scaler"
   ]
  },
  {
   "cell_type": "code",
   "execution_count": null,
   "id": "6b77e97c",
   "metadata": {
    "execution": {
     "iopub.execute_input": "2022-03-02T20:12:50.056240Z",
     "iopub.status.busy": "2022-03-02T20:12:50.055956Z",
     "iopub.status.idle": "2022-03-02T20:12:50.080087Z",
     "shell.execute_reply": "2022-03-02T20:12:50.079142Z",
     "shell.execute_reply.started": "2022-03-02T20:12:50.056200Z"
    },
    "papermill": {
     "duration": null,
     "end_time": null,
     "exception": null,
     "start_time": null,
     "status": "pending"
    },
    "tags": []
   },
   "outputs": [],
   "source": [
    "from sklearn.preprocessing import MinMaxScaler\n",
    "sc = MinMaxScaler()\n",
    "X_train.iloc[:,[0,1,7]] = sc.fit_transform(X_train.iloc[:,[0,1,7]])\n",
    "X_test.iloc[:,[0,1,7]] = sc.transform(X_test.iloc[:,[0,1,7]])\n"
   ]
  },
  {
   "cell_type": "markdown",
   "id": "efe7046f",
   "metadata": {
    "papermill": {
     "duration": null,
     "end_time": null,
     "exception": null,
     "start_time": null,
     "status": "pending"
    },
    "tags": []
   },
   "source": [
    "## XGBoost"
   ]
  },
  {
   "cell_type": "code",
   "execution_count": null,
   "id": "bdc8755c",
   "metadata": {
    "execution": {
     "iopub.execute_input": "2022-03-02T20:12:50.081756Z",
     "iopub.status.busy": "2022-03-02T20:12:50.081506Z",
     "iopub.status.idle": "2022-03-02T20:12:51.042100Z",
     "shell.execute_reply": "2022-03-02T20:12:51.040951Z",
     "shell.execute_reply.started": "2022-03-02T20:12:50.081725Z"
    },
    "papermill": {
     "duration": null,
     "end_time": null,
     "exception": null,
     "start_time": null,
     "status": "pending"
    },
    "tags": []
   },
   "outputs": [],
   "source": [
    "from xgboost import XGBClassifier\n",
    "model = XGBClassifier()\n",
    "model.fit(X_train, y_train)\n",
    "y_pred4_2 = model.predict(X_test)"
   ]
  },
  {
   "cell_type": "code",
   "execution_count": null,
   "id": "20f0ed9e",
   "metadata": {
    "execution": {
     "iopub.execute_input": "2022-03-02T20:12:51.044379Z",
     "iopub.status.busy": "2022-03-02T20:12:51.043989Z",
     "iopub.status.idle": "2022-03-02T20:12:51.052734Z",
     "shell.execute_reply": "2022-03-02T20:12:51.051718Z",
     "shell.execute_reply.started": "2022-03-02T20:12:51.044332Z"
    },
    "papermill": {
     "duration": null,
     "end_time": null,
     "exception": null,
     "start_time": null,
     "status": "pending"
    },
    "tags": []
   },
   "outputs": [],
   "source": [
    "accuracy = accuracy_score(y_test, y_pred4_2) \n",
    "print(\"Accuracy of the XGBoost_2 Model: \",accuracy)"
   ]
  },
  {
   "cell_type": "markdown",
   "id": "c72696f7",
   "metadata": {
    "papermill": {
     "duration": null,
     "end_time": null,
     "exception": null,
     "start_time": null,
     "status": "pending"
    },
    "tags": []
   },
   "source": [
    "## RandomForest"
   ]
  },
  {
   "cell_type": "code",
   "execution_count": null,
   "id": "522ca396",
   "metadata": {
    "execution": {
     "iopub.execute_input": "2022-03-02T20:12:51.055605Z",
     "iopub.status.busy": "2022-03-02T20:12:51.054284Z",
     "iopub.status.idle": "2022-03-02T20:12:52.866614Z",
     "shell.execute_reply": "2022-03-02T20:12:52.865400Z",
     "shell.execute_reply.started": "2022-03-02T20:12:51.055532Z"
    },
    "papermill": {
     "duration": null,
     "end_time": null,
     "exception": null,
     "start_time": null,
     "status": "pending"
    },
    "tags": []
   },
   "outputs": [],
   "source": [
    "from sklearn.ensemble import RandomForestClassifier\n",
    "rfc = RandomForestClassifier(n_estimators=150 ,criterion = 'entropy', random_state = 42)\n",
    "rfc.fit(X_train, y_train)\n",
    "rfc_pred_test_2 = rfc.predict(X_test)"
   ]
  },
  {
   "cell_type": "code",
   "execution_count": null,
   "id": "fa723f16",
   "metadata": {
    "execution": {
     "iopub.execute_input": "2022-03-02T20:12:52.869029Z",
     "iopub.status.busy": "2022-03-02T20:12:52.868110Z",
     "iopub.status.idle": "2022-03-02T20:12:52.875889Z",
     "shell.execute_reply": "2022-03-02T20:12:52.875046Z",
     "shell.execute_reply.started": "2022-03-02T20:12:52.868971Z"
    },
    "papermill": {
     "duration": null,
     "end_time": null,
     "exception": null,
     "start_time": null,
     "status": "pending"
    },
    "tags": []
   },
   "outputs": [],
   "source": [
    "accuracy = accuracy_score(y_test, rfc_pred_test_2) \n",
    "print(\"Accuracy of the RandomForest_2 Model: \",accuracy)"
   ]
  },
  {
   "cell_type": "markdown",
   "id": "08b30651",
   "metadata": {
    "papermill": {
     "duration": null,
     "end_time": null,
     "exception": null,
     "start_time": null,
     "status": "pending"
    },
    "tags": []
   },
   "source": [
    "### Our best models were invarient !"
   ]
  },
  {
   "cell_type": "markdown",
   "id": "472a9f4c",
   "metadata": {
    "papermill": {
     "duration": null,
     "end_time": null,
     "exception": null,
     "start_time": null,
     "status": "pending"
    },
    "tags": []
   },
   "source": [
    "# Balanced"
   ]
  },
  {
   "cell_type": "code",
   "execution_count": null,
   "id": "a62bdd3f",
   "metadata": {
    "execution": {
     "iopub.execute_input": "2022-03-02T20:12:52.877463Z",
     "iopub.status.busy": "2022-03-02T20:12:52.877226Z",
     "iopub.status.idle": "2022-03-02T20:12:53.177134Z",
     "shell.execute_reply": "2022-03-02T20:12:53.175950Z",
     "shell.execute_reply.started": "2022-03-02T20:12:52.877434Z"
    },
    "papermill": {
     "duration": null,
     "end_time": null,
     "exception": null,
     "start_time": null,
     "status": "pending"
    },
    "tags": []
   },
   "outputs": [],
   "source": [
    "ax = sns.catplot(x=\"Exited\", kind=\"count\", data=df);"
   ]
  },
  {
   "cell_type": "markdown",
   "id": "cd665d1e",
   "metadata": {
    "papermill": {
     "duration": null,
     "end_time": null,
     "exception": null,
     "start_time": null,
     "status": "pending"
    },
    "tags": []
   },
   "source": [
    "#### our dataset is imbalanced !"
   ]
  },
  {
   "cell_type": "markdown",
   "id": "a253387b",
   "metadata": {
    "papermill": {
     "duration": null,
     "end_time": null,
     "exception": null,
     "start_time": null,
     "status": "pending"
    },
    "tags": []
   },
   "source": [
    "## Under_resampeling"
   ]
  },
  {
   "cell_type": "code",
   "execution_count": null,
   "id": "78f8c543",
   "metadata": {
    "execution": {
     "iopub.execute_input": "2022-03-02T20:12:53.178745Z",
     "iopub.status.busy": "2022-03-02T20:12:53.178464Z",
     "iopub.status.idle": "2022-03-02T20:12:53.394044Z",
     "shell.execute_reply": "2022-03-02T20:12:53.392996Z",
     "shell.execute_reply.started": "2022-03-02T20:12:53.178706Z"
    },
    "papermill": {
     "duration": null,
     "end_time": null,
     "exception": null,
     "start_time": null,
     "status": "pending"
    },
    "tags": []
   },
   "outputs": [],
   "source": [
    "count_class_0, count_class_1 = df.Exited.value_counts()\n",
    "df_class_0 = df[df['Exited'] == 0]\n",
    "\n",
    "df_class_1 = df[df['Exited'] == 1]\n",
    "df_class_0_under = df_class_0.sample(count_class_1)\n",
    "df_test_under = pd.concat([df_class_0_under, df_class_1], axis=0)\n",
    "\n",
    "print('Random under-sampling:')\n",
    "print(df_test_under.Exited.value_counts())\n",
    "\n",
    "df_test_under.Exited.value_counts().plot(kind='bar', title='Count (target)');"
   ]
  },
  {
   "cell_type": "code",
   "execution_count": null,
   "id": "4a3b1d02",
   "metadata": {
    "execution": {
     "iopub.execute_input": "2022-03-02T20:12:53.395600Z",
     "iopub.status.busy": "2022-03-02T20:12:53.395376Z",
     "iopub.status.idle": "2022-03-02T20:12:53.408458Z",
     "shell.execute_reply": "2022-03-02T20:12:53.407398Z",
     "shell.execute_reply.started": "2022-03-02T20:12:53.395571Z"
    },
    "papermill": {
     "duration": null,
     "end_time": null,
     "exception": null,
     "start_time": null,
     "status": "pending"
    },
    "tags": []
   },
   "outputs": [],
   "source": [
    "X = df_test_under.drop(['Exited'], axis=1)\n",
    "y = df_test_under['Exited']\n",
    "X_train, X_test, y_train, y_test = train_test_split(X, y, test_size=0.2, random_state=5)\n",
    "print(X_train.shape)\n",
    "print(y_train.shape)\n",
    "print(X_test.shape)\n",
    "print(y_test.shape)"
   ]
  },
  {
   "cell_type": "markdown",
   "id": "76ae41cc",
   "metadata": {
    "jp-MarkdownHeadingCollapsed": true,
    "papermill": {
     "duration": null,
     "end_time": null,
     "exception": null,
     "start_time": null,
     "status": "pending"
    },
    "tags": []
   },
   "source": [
    "## XGBoost"
   ]
  },
  {
   "cell_type": "code",
   "execution_count": null,
   "id": "2e2c0c0a",
   "metadata": {
    "execution": {
     "iopub.execute_input": "2022-03-02T20:12:53.410109Z",
     "iopub.status.busy": "2022-03-02T20:12:53.409831Z",
     "iopub.status.idle": "2022-03-02T20:12:54.000055Z",
     "shell.execute_reply": "2022-03-02T20:12:53.999103Z",
     "shell.execute_reply.started": "2022-03-02T20:12:53.410081Z"
    },
    "papermill": {
     "duration": null,
     "end_time": null,
     "exception": null,
     "start_time": null,
     "status": "pending"
    },
    "tags": []
   },
   "outputs": [],
   "source": [
    "from xgboost import XGBClassifier\n",
    "model = XGBClassifier()\n",
    "model.fit(X_train, y_train)"
   ]
  },
  {
   "cell_type": "code",
   "execution_count": null,
   "id": "308fb261",
   "metadata": {
    "execution": {
     "iopub.execute_input": "2022-03-02T20:12:54.001916Z",
     "iopub.status.busy": "2022-03-02T20:12:54.001580Z",
     "iopub.status.idle": "2022-03-02T20:12:54.019012Z",
     "shell.execute_reply": "2022-03-02T20:12:54.018282Z",
     "shell.execute_reply.started": "2022-03-02T20:12:54.001843Z"
    },
    "papermill": {
     "duration": null,
     "end_time": null,
     "exception": null,
     "start_time": null,
     "status": "pending"
    },
    "tags": []
   },
   "outputs": [],
   "source": [
    "y_pred4_3 = model.predict(X_test)\n",
    "accuracy = accuracy_score(y_test, y_pred4_3) \n",
    "print(\"Accuracy of the XGBoosy Model: \",accuracy)"
   ]
  },
  {
   "cell_type": "markdown",
   "id": "40f6b4e3",
   "metadata": {
    "papermill": {
     "duration": null,
     "end_time": null,
     "exception": null,
     "start_time": null,
     "status": "pending"
    },
    "tags": []
   },
   "source": [
    "## RandomForest"
   ]
  },
  {
   "cell_type": "code",
   "execution_count": null,
   "id": "e75e9f74",
   "metadata": {
    "execution": {
     "iopub.execute_input": "2022-03-02T20:12:54.026079Z",
     "iopub.status.busy": "2022-03-02T20:12:54.022938Z",
     "iopub.status.idle": "2022-03-02T20:12:54.943847Z",
     "shell.execute_reply": "2022-03-02T20:12:54.942648Z",
     "shell.execute_reply.started": "2022-03-02T20:12:54.026027Z"
    },
    "papermill": {
     "duration": null,
     "end_time": null,
     "exception": null,
     "start_time": null,
     "status": "pending"
    },
    "tags": []
   },
   "outputs": [],
   "source": [
    "from sklearn.ensemble import RandomForestClassifier\n",
    "rfc = RandomForestClassifier(n_estimators=150 ,criterion = 'entropy', random_state = 42)\n",
    "rfc.fit(X_train, y_train)"
   ]
  },
  {
   "cell_type": "code",
   "execution_count": null,
   "id": "08733813",
   "metadata": {
    "execution": {
     "iopub.execute_input": "2022-03-02T20:12:54.945523Z",
     "iopub.status.busy": "2022-03-02T20:12:54.945210Z",
     "iopub.status.idle": "2022-03-02T20:12:55.000044Z",
     "shell.execute_reply": "2022-03-02T20:12:54.998888Z",
     "shell.execute_reply.started": "2022-03-02T20:12:54.945480Z"
    },
    "papermill": {
     "duration": null,
     "end_time": null,
     "exception": null,
     "start_time": null,
     "status": "pending"
    },
    "tags": []
   },
   "outputs": [],
   "source": [
    "rfc_pred_test_3 = rfc.predict(X_test)"
   ]
  },
  {
   "cell_type": "code",
   "execution_count": null,
   "id": "3e586ba9",
   "metadata": {
    "execution": {
     "iopub.execute_input": "2022-03-02T20:12:55.002162Z",
     "iopub.status.busy": "2022-03-02T20:12:55.001833Z",
     "iopub.status.idle": "2022-03-02T20:12:55.009501Z",
     "shell.execute_reply": "2022-03-02T20:12:55.008268Z",
     "shell.execute_reply.started": "2022-03-02T20:12:55.002120Z"
    },
    "papermill": {
     "duration": null,
     "end_time": null,
     "exception": null,
     "start_time": null,
     "status": "pending"
    },
    "tags": []
   },
   "outputs": [],
   "source": [
    "accuracy = accuracy_score(y_test, rfc_pred_test_3) \n",
    "print(\"Accuracy of the RandomForest Model: \",accuracy)"
   ]
  },
  {
   "cell_type": "code",
   "execution_count": null,
   "id": "c7c36919",
   "metadata": {
    "execution": {
     "iopub.execute_input": "2022-03-02T20:12:55.011735Z",
     "iopub.status.busy": "2022-03-02T20:12:55.011435Z",
     "iopub.status.idle": "2022-03-02T20:12:55.027177Z",
     "shell.execute_reply": "2022-03-02T20:12:55.026041Z",
     "shell.execute_reply.started": "2022-03-02T20:12:55.011694Z"
    },
    "papermill": {
     "duration": null,
     "end_time": null,
     "exception": null,
     "start_time": null,
     "status": "pending"
    },
    "tags": []
   },
   "outputs": [],
   "source": [
    "print(classification_report(y_test,rfc_pred_test_3))"
   ]
  },
  {
   "cell_type": "markdown",
   "id": "7c3d242d",
   "metadata": {
    "papermill": {
     "duration": null,
     "end_time": null,
     "exception": null,
     "start_time": null,
     "status": "pending"
    },
    "tags": []
   },
   "source": [
    "#### Under resampling is not usefule for our models."
   ]
  },
  {
   "cell_type": "markdown",
   "id": "bbc8d5bb",
   "metadata": {
    "papermill": {
     "duration": null,
     "end_time": null,
     "exception": null,
     "start_time": null,
     "status": "pending"
    },
    "tags": []
   },
   "source": [
    "# Over_resampeling"
   ]
  },
  {
   "cell_type": "code",
   "execution_count": null,
   "id": "6b32f1e2",
   "metadata": {
    "execution": {
     "iopub.execute_input": "2022-03-02T20:12:55.029499Z",
     "iopub.status.busy": "2022-03-02T20:12:55.028636Z",
     "iopub.status.idle": "2022-03-02T20:12:55.232025Z",
     "shell.execute_reply": "2022-03-02T20:12:55.231145Z",
     "shell.execute_reply.started": "2022-03-02T20:12:55.029467Z"
    },
    "papermill": {
     "duration": null,
     "end_time": null,
     "exception": null,
     "start_time": null,
     "status": "pending"
    },
    "tags": []
   },
   "outputs": [],
   "source": [
    "df_class_1_over = df_class_1.sample(count_class_0, replace=True)\n",
    "df_test_over = pd.concat([df_class_0, df_class_1_over], axis=0)\n",
    "\n",
    "print('Random over-sampling:')\n",
    "print(df_test_over.Exited.value_counts())\n",
    "\n",
    "df_test_over.Exited.value_counts().plot(kind='bar', title='Count (target)');"
   ]
  },
  {
   "cell_type": "code",
   "execution_count": null,
   "id": "feaa9dbc",
   "metadata": {
    "execution": {
     "iopub.execute_input": "2022-03-02T20:12:55.234150Z",
     "iopub.status.busy": "2022-03-02T20:12:55.233653Z",
     "iopub.status.idle": "2022-03-02T20:12:55.248747Z",
     "shell.execute_reply": "2022-03-02T20:12:55.247974Z",
     "shell.execute_reply.started": "2022-03-02T20:12:55.234106Z"
    },
    "papermill": {
     "duration": null,
     "end_time": null,
     "exception": null,
     "start_time": null,
     "status": "pending"
    },
    "tags": []
   },
   "outputs": [],
   "source": [
    "X = df_test_over.drop(['Exited'], axis=1)\n",
    "y = df_test_over['Exited']\n",
    "X_train, X_test, y_train, y_test = train_test_split(X, y, test_size=0.2, random_state=5)\n",
    "print(X_train.shape)\n",
    "print(y_train.shape)\n",
    "print(X_test.shape)\n",
    "print(y_test.shape)"
   ]
  },
  {
   "cell_type": "markdown",
   "id": "9f54c588",
   "metadata": {
    "papermill": {
     "duration": null,
     "end_time": null,
     "exception": null,
     "start_time": null,
     "status": "pending"
    },
    "tags": []
   },
   "source": [
    "## XGBoost"
   ]
  },
  {
   "cell_type": "code",
   "execution_count": null,
   "id": "880ba2d3",
   "metadata": {
    "execution": {
     "iopub.execute_input": "2022-03-02T20:12:55.250770Z",
     "iopub.status.busy": "2022-03-02T20:12:55.250445Z",
     "iopub.status.idle": "2022-03-02T20:12:56.491400Z",
     "shell.execute_reply": "2022-03-02T20:12:56.490504Z",
     "shell.execute_reply.started": "2022-03-02T20:12:55.250727Z"
    },
    "papermill": {
     "duration": null,
     "end_time": null,
     "exception": null,
     "start_time": null,
     "status": "pending"
    },
    "tags": []
   },
   "outputs": [],
   "source": [
    "from xgboost import XGBClassifier\n",
    "model = XGBClassifier()\n",
    "model.fit(X_train, y_train)"
   ]
  },
  {
   "cell_type": "code",
   "execution_count": null,
   "id": "d35d8569",
   "metadata": {
    "execution": {
     "iopub.execute_input": "2022-03-02T20:12:56.492945Z",
     "iopub.status.busy": "2022-03-02T20:12:56.492683Z",
     "iopub.status.idle": "2022-03-02T20:12:56.512535Z",
     "shell.execute_reply": "2022-03-02T20:12:56.511813Z",
     "shell.execute_reply.started": "2022-03-02T20:12:56.492913Z"
    },
    "papermill": {
     "duration": null,
     "end_time": null,
     "exception": null,
     "start_time": null,
     "status": "pending"
    },
    "tags": []
   },
   "outputs": [],
   "source": [
    "y_pred4_4 = model.predict(X_test)\n",
    "accuracy = accuracy_score(y_test, y_pred4_4) \n",
    "print(\"Accuracy of the XGBoosy Model: \",accuracy)"
   ]
  },
  {
   "cell_type": "code",
   "execution_count": null,
   "id": "1aefab64",
   "metadata": {
    "execution": {
     "iopub.execute_input": "2022-03-02T20:12:56.518504Z",
     "iopub.status.busy": "2022-03-02T20:12:56.516650Z",
     "iopub.status.idle": "2022-03-02T20:12:56.535948Z",
     "shell.execute_reply": "2022-03-02T20:12:56.534974Z",
     "shell.execute_reply.started": "2022-03-02T20:12:56.518460Z"
    },
    "papermill": {
     "duration": null,
     "end_time": null,
     "exception": null,
     "start_time": null,
     "status": "pending"
    },
    "tags": []
   },
   "outputs": [],
   "source": [
    "print(classification_report(y_test,y_pred4_4))"
   ]
  },
  {
   "cell_type": "markdown",
   "id": "7efb45f6",
   "metadata": {
    "papermill": {
     "duration": null,
     "end_time": null,
     "exception": null,
     "start_time": null,
     "status": "pending"
    },
    "tags": []
   },
   "source": [
    "## RandomForest"
   ]
  },
  {
   "cell_type": "code",
   "execution_count": null,
   "id": "4958e2e9",
   "metadata": {
    "execution": {
     "iopub.execute_input": "2022-03-02T20:12:56.539009Z",
     "iopub.status.busy": "2022-03-02T20:12:56.537435Z",
     "iopub.status.idle": "2022-03-02T20:12:59.010638Z",
     "shell.execute_reply": "2022-03-02T20:12:59.009772Z",
     "shell.execute_reply.started": "2022-03-02T20:12:56.538954Z"
    },
    "papermill": {
     "duration": null,
     "end_time": null,
     "exception": null,
     "start_time": null,
     "status": "pending"
    },
    "tags": []
   },
   "outputs": [],
   "source": [
    "from sklearn.ensemble import RandomForestClassifier\n",
    "rfc = RandomForestClassifier(n_estimators=150 ,criterion = 'entropy', random_state = 42)\n",
    "rfc.fit(X_train, y_train)"
   ]
  },
  {
   "cell_type": "code",
   "execution_count": null,
   "id": "d6ee65d8",
   "metadata": {
    "execution": {
     "iopub.execute_input": "2022-03-02T20:12:59.013735Z",
     "iopub.status.busy": "2022-03-02T20:12:59.013227Z",
     "iopub.status.idle": "2022-03-02T20:12:59.145747Z",
     "shell.execute_reply": "2022-03-02T20:12:59.145017Z",
     "shell.execute_reply.started": "2022-03-02T20:12:59.013688Z"
    },
    "papermill": {
     "duration": null,
     "end_time": null,
     "exception": null,
     "start_time": null,
     "status": "pending"
    },
    "tags": []
   },
   "outputs": [],
   "source": [
    "rfc_pred_test_4 = rfc.predict(X_test)"
   ]
  },
  {
   "cell_type": "code",
   "execution_count": null,
   "id": "794a9796",
   "metadata": {
    "execution": {
     "iopub.execute_input": "2022-03-02T20:12:59.147270Z",
     "iopub.status.busy": "2022-03-02T20:12:59.147014Z",
     "iopub.status.idle": "2022-03-02T20:12:59.153520Z",
     "shell.execute_reply": "2022-03-02T20:12:59.152859Z",
     "shell.execute_reply.started": "2022-03-02T20:12:59.147239Z"
    },
    "papermill": {
     "duration": null,
     "end_time": null,
     "exception": null,
     "start_time": null,
     "status": "pending"
    },
    "tags": []
   },
   "outputs": [],
   "source": [
    "accuracy = accuracy_score(y_test, rfc_pred_test_4) \n",
    "print(\"Accuracy of the RandomForest Model: \",accuracy)"
   ]
  },
  {
   "cell_type": "code",
   "execution_count": null,
   "id": "41f7ea13",
   "metadata": {
    "execution": {
     "iopub.execute_input": "2022-03-02T20:12:59.155246Z",
     "iopub.status.busy": "2022-03-02T20:12:59.154538Z",
     "iopub.status.idle": "2022-03-02T20:12:59.179578Z",
     "shell.execute_reply": "2022-03-02T20:12:59.178705Z",
     "shell.execute_reply.started": "2022-03-02T20:12:59.155211Z"
    },
    "papermill": {
     "duration": null,
     "end_time": null,
     "exception": null,
     "start_time": null,
     "status": "pending"
    },
    "tags": []
   },
   "outputs": [],
   "source": [
    "print(classification_report(y_test,rfc_pred_test_4))"
   ]
  },
  {
   "cell_type": "markdown",
   "id": "0c1c7d34",
   "metadata": {
    "papermill": {
     "duration": null,
     "end_time": null,
     "exception": null,
     "start_time": null,
     "status": "pending"
    },
    "tags": []
   },
   "source": [
    "#### Oversampeling made our models better!"
   ]
  },
  {
   "cell_type": "markdown",
   "id": "571153dc",
   "metadata": {
    "papermill": {
     "duration": null,
     "end_time": null,
     "exception": null,
     "start_time": null,
     "status": "pending"
    },
    "tags": []
   },
   "source": [
    "# ROC Curves"
   ]
  },
  {
   "cell_type": "code",
   "execution_count": null,
   "id": "fe6cc320",
   "metadata": {
    "execution": {
     "iopub.execute_input": "2022-03-02T20:12:59.181235Z",
     "iopub.status.busy": "2022-03-02T20:12:59.180982Z",
     "iopub.status.idle": "2022-03-02T20:12:59.454684Z",
     "shell.execute_reply": "2022-03-02T20:12:59.453780Z",
     "shell.execute_reply.started": "2022-03-02T20:12:59.181205Z"
    },
    "papermill": {
     "duration": null,
     "end_time": null,
     "exception": null,
     "start_time": null,
     "status": "pending"
    },
    "tags": []
   },
   "outputs": [],
   "source": [
    "from sklearn.metrics import roc_curve , auc\n",
    "rfc_fpr,rfc_tpr,threshold_rfc = roc_curve(y_test,rfc_pred_test_4)\n",
    "auc_rfc = auc(rfc_fpr ,rfc_tpr)\n",
    "XG_fpr,XG_tpr,threshold_XG = roc_curve(y_test,y_pred4_4)\n",
    "auc_XG = auc(XG_fpr ,XG_tpr)\n",
    "fig, ax = plt.subplots(figsize=(16,9))\n",
    "ax.plot(rfc_fpr ,rfc_tpr ,label='RFC')\n",
    "ax.plot(XG_fpr ,XG_tpr ,label='XGBoost')\n",
    "plt.legend();"
   ]
  },
  {
   "cell_type": "markdown",
   "id": "ae304abe",
   "metadata": {
    "papermill": {
     "duration": null,
     "end_time": null,
     "exception": null,
     "start_time": null,
     "status": "pending"
    },
    "tags": []
   },
   "source": [
    "#### at end : for this dataset \" Balanced model od RandmForest \" is the best model !!\n"
   ]
  },
  {
   "cell_type": "code",
   "execution_count": null,
   "id": "2c2bb7c0",
   "metadata": {
    "papermill": {
     "duration": null,
     "end_time": null,
     "exception": null,
     "start_time": null,
     "status": "pending"
    },
    "tags": []
   },
   "outputs": [],
   "source": []
  },
  {
   "cell_type": "code",
   "execution_count": null,
   "id": "2a0a438a",
   "metadata": {
    "papermill": {
     "duration": null,
     "end_time": null,
     "exception": null,
     "start_time": null,
     "status": "pending"
    },
    "tags": []
   },
   "outputs": [],
   "source": []
  },
  {
   "cell_type": "code",
   "execution_count": null,
   "id": "520386ad",
   "metadata": {
    "papermill": {
     "duration": null,
     "end_time": null,
     "exception": null,
     "start_time": null,
     "status": "pending"
    },
    "tags": []
   },
   "outputs": [],
   "source": []
  }
 ],
 "metadata": {
  "kernelspec": {
   "display_name": "Python 3",
   "language": "python",
   "name": "python3"
  },
  "language_info": {
   "codemirror_mode": {
    "name": "ipython",
    "version": 3
   },
   "file_extension": ".py",
   "mimetype": "text/x-python",
   "name": "python",
   "nbconvert_exporter": "python",
   "pygments_lexer": "ipython3",
   "version": "3.7.12"
  },
  "papermill": {
   "default_parameters": {},
   "duration": 33.132902,
   "end_time": "2022-03-02T20:15:04.938000",
   "environment_variables": {},
   "exception": true,
   "input_path": "__notebook__.ipynb",
   "output_path": "__notebook__.ipynb",
   "parameters": {},
   "start_time": "2022-03-02T20:14:31.805098",
   "version": "2.3.3"
  }
 },
 "nbformat": 4,
 "nbformat_minor": 5
}
